{
 "cells": [
  {
   "cell_type": "markdown",
   "metadata": {},
   "source": [
    "## Import Libraries"
   ]
  },
  {
   "cell_type": "code",
   "execution_count": 41,
   "metadata": {},
   "outputs": [],
   "source": [
    "import pandas as pd\n",
    "\n",
    "import dash\n",
    "from dash import Dash, dash_table\n",
    "import dash_html_components as html\n",
    "import dash_core_components as dcc\n",
    "from dash.dependencies import Output, Input, State\n",
    "\n",
    "import plotly.graph_objects as go\n",
    "from plotly.subplots import make_subplots\n",
    "import plotly.express as px\n",
    "import matplotlib.pyplot as plt\n",
    "import seaborn as sns\n",
    "%matplotlib inline\n",
    "\n",
    "import numpy as np\n",
    "from datetime import date, timedelta\n",
    "import datetime\n",
    "\n",
    "from sklearn.preprocessing import StandardScaler, MinMaxScaler"
   ]
  },
  {
   "cell_type": "markdown",
   "metadata": {},
   "source": [
    "### Read the data"
   ]
  },
  {
   "cell_type": "code",
   "execution_count": 42,
   "metadata": {},
   "outputs": [
    {
     "name": "stderr",
     "output_type": "stream",
     "text": [
      "C:\\Users\\PanSt\\AppData\\Local\\Packages\\PythonSoftwareFoundation.Python.3.10_qbz5n2kfra8p0\\LocalCache\\local-packages\\Python310\\site-packages\\openpyxl\\worksheet\\_reader.py:329: UserWarning:\n",
      "\n",
      "Unknown extension is not supported and will be removed\n",
      "\n",
      "C:\\Users\\PanSt\\AppData\\Local\\Packages\\PythonSoftwareFoundation.Python.3.10_qbz5n2kfra8p0\\LocalCache\\local-packages\\Python310\\site-packages\\openpyxl\\worksheet\\_reader.py:329: UserWarning:\n",
      "\n",
      "Conditional Formatting extension is not supported and will be removed\n",
      "\n"
     ]
    },
    {
     "data": {
      "text/html": [
       "<div>\n",
       "<style scoped>\n",
       "    .dataframe tbody tr th:only-of-type {\n",
       "        vertical-align: middle;\n",
       "    }\n",
       "\n",
       "    .dataframe tbody tr th {\n",
       "        vertical-align: top;\n",
       "    }\n",
       "\n",
       "    .dataframe thead th {\n",
       "        text-align: right;\n",
       "    }\n",
       "</style>\n",
       "<table border=\"1\" class=\"dataframe\">\n",
       "  <thead>\n",
       "    <tr style=\"text-align: right;\">\n",
       "      <th></th>\n",
       "      <th>Unnamed: 0</th>\n",
       "      <th>NET</th>\n",
       "      <th>PPG</th>\n",
       "      <th>TABLES</th>\n",
       "      <th>2023-01-14 00:00:00</th>\n",
       "      <th>2023-01-21 00:00:00</th>\n",
       "      <th>2023-01-28 00:00:00</th>\n",
       "      <th>2023-02-10 00:00:00</th>\n",
       "      <th>2023-02-19 00:00:00</th>\n",
       "      <th>2023-03-12 00:00:00</th>\n",
       "      <th>...</th>\n",
       "      <th>2023-07-30 00:00:00</th>\n",
       "      <th>2023-08-04 00:00:00</th>\n",
       "      <th>2023-08-12 00:00:00</th>\n",
       "      <th>2023-08-17 00:00:00</th>\n",
       "      <th>2023-08-19 00:00:00</th>\n",
       "      <th>2023-08-20 00:00:00</th>\n",
       "      <th>2023-09-03 00:00:00</th>\n",
       "      <th>2023-09-24 00:00:00</th>\n",
       "      <th>2023-10-01 00:00:00</th>\n",
       "      <th>2023-10-15 00:00:00</th>\n",
       "    </tr>\n",
       "  </thead>\n",
       "  <tbody>\n",
       "    <tr>\n",
       "      <th>0</th>\n",
       "      <td>Ashish</td>\n",
       "      <td>94.80</td>\n",
       "      <td>3.792000</td>\n",
       "      <td>25</td>\n",
       "      <td>-5.00</td>\n",
       "      <td>24.60</td>\n",
       "      <td>-24.00</td>\n",
       "      <td>28.7</td>\n",
       "      <td>-20.0</td>\n",
       "      <td>25.05</td>\n",
       "      <td>...</td>\n",
       "      <td>-47.00</td>\n",
       "      <td>11.20</td>\n",
       "      <td>68.15</td>\n",
       "      <td>10.1</td>\n",
       "      <td>-30.0</td>\n",
       "      <td>-75.75</td>\n",
       "      <td>26.35</td>\n",
       "      <td>6.05</td>\n",
       "      <td>78.85</td>\n",
       "      <td>21.50</td>\n",
       "    </tr>\n",
       "    <tr>\n",
       "      <th>1</th>\n",
       "      <td>Sid</td>\n",
       "      <td>156.00</td>\n",
       "      <td>6.782609</td>\n",
       "      <td>23</td>\n",
       "      <td>-15.00</td>\n",
       "      <td>-10.00</td>\n",
       "      <td>-16.00</td>\n",
       "      <td>-20.0</td>\n",
       "      <td>-10.0</td>\n",
       "      <td>-3.40</td>\n",
       "      <td>...</td>\n",
       "      <td>41.35</td>\n",
       "      <td>-20.00</td>\n",
       "      <td>-20.00</td>\n",
       "      <td>NaN</td>\n",
       "      <td>9.9</td>\n",
       "      <td>21.95</td>\n",
       "      <td>57.15</td>\n",
       "      <td>NaN</td>\n",
       "      <td>63.10</td>\n",
       "      <td>34.85</td>\n",
       "    </tr>\n",
       "    <tr>\n",
       "      <th>2</th>\n",
       "      <td>Chris</td>\n",
       "      <td>82.00</td>\n",
       "      <td>3.565217</td>\n",
       "      <td>23</td>\n",
       "      <td>37.35</td>\n",
       "      <td>1.15</td>\n",
       "      <td>13.35</td>\n",
       "      <td>7.8</td>\n",
       "      <td>-38.0</td>\n",
       "      <td>-30.00</td>\n",
       "      <td>...</td>\n",
       "      <td>-41.50</td>\n",
       "      <td>NaN</td>\n",
       "      <td>27.00</td>\n",
       "      <td>13.0</td>\n",
       "      <td>28.1</td>\n",
       "      <td>60.60</td>\n",
       "      <td>-31.50</td>\n",
       "      <td>-29.75</td>\n",
       "      <td>-40.00</td>\n",
       "      <td>NaN</td>\n",
       "    </tr>\n",
       "    <tr>\n",
       "      <th>3</th>\n",
       "      <td>Panos</td>\n",
       "      <td>45.75</td>\n",
       "      <td>1.989130</td>\n",
       "      <td>23</td>\n",
       "      <td>-0.95</td>\n",
       "      <td>2.60</td>\n",
       "      <td>-3.45</td>\n",
       "      <td>-10.2</td>\n",
       "      <td>7.3</td>\n",
       "      <td>15.25</td>\n",
       "      <td>...</td>\n",
       "      <td>-40.00</td>\n",
       "      <td>-21.95</td>\n",
       "      <td>-26.95</td>\n",
       "      <td>-7.2</td>\n",
       "      <td>28.0</td>\n",
       "      <td>-35.20</td>\n",
       "      <td>NaN</td>\n",
       "      <td>-5.15</td>\n",
       "      <td>29.45</td>\n",
       "      <td>38.20</td>\n",
       "    </tr>\n",
       "    <tr>\n",
       "      <th>4</th>\n",
       "      <td>Kartik</td>\n",
       "      <td>154.85</td>\n",
       "      <td>9.678125</td>\n",
       "      <td>16</td>\n",
       "      <td>-5.00</td>\n",
       "      <td>NaN</td>\n",
       "      <td>12.70</td>\n",
       "      <td>9.7</td>\n",
       "      <td>17.8</td>\n",
       "      <td>11.20</td>\n",
       "      <td>...</td>\n",
       "      <td>NaN</td>\n",
       "      <td>71.75</td>\n",
       "      <td>-20.00</td>\n",
       "      <td>NaN</td>\n",
       "      <td>-20.0</td>\n",
       "      <td>33.85</td>\n",
       "      <td>-20.00</td>\n",
       "      <td>28.85</td>\n",
       "      <td>48.10</td>\n",
       "      <td>NaN</td>\n",
       "    </tr>\n",
       "  </tbody>\n",
       "</table>\n",
       "<p>5 rows × 29 columns</p>\n",
       "</div>"
      ],
      "text/plain": [
       "  Unnamed: 0     NET       PPG  TABLES  2023-01-14 00:00:00  \\\n",
       "0     Ashish   94.80  3.792000      25                -5.00   \n",
       "1        Sid  156.00  6.782609      23               -15.00   \n",
       "2      Chris   82.00  3.565217      23                37.35   \n",
       "3      Panos   45.75  1.989130      23                -0.95   \n",
       "4     Kartik  154.85  9.678125      16                -5.00   \n",
       "\n",
       "   2023-01-21 00:00:00  2023-01-28 00:00:00  2023-02-10 00:00:00  \\\n",
       "0                24.60               -24.00                 28.7   \n",
       "1               -10.00               -16.00                -20.0   \n",
       "2                 1.15                13.35                  7.8   \n",
       "3                 2.60                -3.45                -10.2   \n",
       "4                  NaN                12.70                  9.7   \n",
       "\n",
       "   2023-02-19 00:00:00  2023-03-12 00:00:00  ...  2023-07-30 00:00:00  \\\n",
       "0                -20.0                25.05  ...               -47.00   \n",
       "1                -10.0                -3.40  ...                41.35   \n",
       "2                -38.0               -30.00  ...               -41.50   \n",
       "3                  7.3                15.25  ...               -40.00   \n",
       "4                 17.8                11.20  ...                  NaN   \n",
       "\n",
       "   2023-08-04 00:00:00  2023-08-12 00:00:00  2023-08-17 00:00:00  \\\n",
       "0                11.20                68.15                 10.1   \n",
       "1               -20.00               -20.00                  NaN   \n",
       "2                  NaN                27.00                 13.0   \n",
       "3               -21.95               -26.95                 -7.2   \n",
       "4                71.75               -20.00                  NaN   \n",
       "\n",
       "   2023-08-19 00:00:00  2023-08-20 00:00:00  2023-09-03 00:00:00  \\\n",
       "0                -30.0               -75.75                26.35   \n",
       "1                  9.9                21.95                57.15   \n",
       "2                 28.1                60.60               -31.50   \n",
       "3                 28.0               -35.20                  NaN   \n",
       "4                -20.0                33.85               -20.00   \n",
       "\n",
       "   2023-09-24 00:00:00  2023-10-01 00:00:00  2023-10-15 00:00:00  \n",
       "0                 6.05                78.85                21.50  \n",
       "1                  NaN                63.10                34.85  \n",
       "2               -29.75               -40.00                  NaN  \n",
       "3                -5.15                29.45                38.20  \n",
       "4                28.85                48.10                  NaN  \n",
       "\n",
       "[5 rows x 29 columns]"
      ]
     },
     "execution_count": 42,
     "metadata": {},
     "output_type": "execute_result"
    }
   ],
   "source": [
    "df = pd.read_excel(\"C:/Users/PanSt/OneDrive/Υπολογιστής/Poker League 2023.xlsx\")\n",
    "df.head()"
   ]
  },
  {
   "cell_type": "code",
   "execution_count": 43,
   "metadata": {},
   "outputs": [],
   "source": [
    "df.set_index('Unnamed: 0', inplace=True)\n",
    "df.rename_axis(None, inplace=True) #remove index header"
   ]
  },
  {
   "cell_type": "code",
   "execution_count": 44,
   "metadata": {},
   "outputs": [
    {
     "data": {
      "text/html": [
       "<div>\n",
       "<style scoped>\n",
       "    .dataframe tbody tr th:only-of-type {\n",
       "        vertical-align: middle;\n",
       "    }\n",
       "\n",
       "    .dataframe tbody tr th {\n",
       "        vertical-align: top;\n",
       "    }\n",
       "\n",
       "    .dataframe thead th {\n",
       "        text-align: right;\n",
       "    }\n",
       "</style>\n",
       "<table border=\"1\" class=\"dataframe\">\n",
       "  <thead>\n",
       "    <tr style=\"text-align: right;\">\n",
       "      <th></th>\n",
       "      <th>NET</th>\n",
       "      <th>PPG</th>\n",
       "      <th>TABLES</th>\n",
       "      <th>2023-01-14 00:00:00</th>\n",
       "      <th>2023-01-21 00:00:00</th>\n",
       "      <th>2023-01-28 00:00:00</th>\n",
       "      <th>2023-02-10 00:00:00</th>\n",
       "      <th>2023-02-19 00:00:00</th>\n",
       "      <th>2023-03-12 00:00:00</th>\n",
       "      <th>2023-04-02 00:00:00</th>\n",
       "      <th>...</th>\n",
       "      <th>2023-07-30 00:00:00</th>\n",
       "      <th>2023-08-04 00:00:00</th>\n",
       "      <th>2023-08-12 00:00:00</th>\n",
       "      <th>2023-08-17 00:00:00</th>\n",
       "      <th>2023-08-19 00:00:00</th>\n",
       "      <th>2023-08-20 00:00:00</th>\n",
       "      <th>2023-09-03 00:00:00</th>\n",
       "      <th>2023-09-24 00:00:00</th>\n",
       "      <th>2023-10-01 00:00:00</th>\n",
       "      <th>2023-10-15 00:00:00</th>\n",
       "    </tr>\n",
       "  </thead>\n",
       "  <tbody>\n",
       "    <tr>\n",
       "      <th>Ashish</th>\n",
       "      <td>94.80</td>\n",
       "      <td>3.792000</td>\n",
       "      <td>25</td>\n",
       "      <td>-5.00</td>\n",
       "      <td>24.60</td>\n",
       "      <td>-24.00</td>\n",
       "      <td>28.7</td>\n",
       "      <td>-20.0</td>\n",
       "      <td>25.05</td>\n",
       "      <td>-0.55</td>\n",
       "      <td>...</td>\n",
       "      <td>-47.00</td>\n",
       "      <td>11.20</td>\n",
       "      <td>68.15</td>\n",
       "      <td>10.1</td>\n",
       "      <td>-30.0</td>\n",
       "      <td>-75.75</td>\n",
       "      <td>26.35</td>\n",
       "      <td>6.05</td>\n",
       "      <td>78.85</td>\n",
       "      <td>21.50</td>\n",
       "    </tr>\n",
       "    <tr>\n",
       "      <th>Sid</th>\n",
       "      <td>156.00</td>\n",
       "      <td>6.782609</td>\n",
       "      <td>23</td>\n",
       "      <td>-15.00</td>\n",
       "      <td>-10.00</td>\n",
       "      <td>-16.00</td>\n",
       "      <td>-20.0</td>\n",
       "      <td>-10.0</td>\n",
       "      <td>-3.40</td>\n",
       "      <td>-14.65</td>\n",
       "      <td>...</td>\n",
       "      <td>41.35</td>\n",
       "      <td>-20.00</td>\n",
       "      <td>-20.00</td>\n",
       "      <td>NaN</td>\n",
       "      <td>9.9</td>\n",
       "      <td>21.95</td>\n",
       "      <td>57.15</td>\n",
       "      <td>NaN</td>\n",
       "      <td>63.10</td>\n",
       "      <td>34.85</td>\n",
       "    </tr>\n",
       "    <tr>\n",
       "      <th>Chris</th>\n",
       "      <td>82.00</td>\n",
       "      <td>3.565217</td>\n",
       "      <td>23</td>\n",
       "      <td>37.35</td>\n",
       "      <td>1.15</td>\n",
       "      <td>13.35</td>\n",
       "      <td>7.8</td>\n",
       "      <td>-38.0</td>\n",
       "      <td>-30.00</td>\n",
       "      <td>6.00</td>\n",
       "      <td>...</td>\n",
       "      <td>-41.50</td>\n",
       "      <td>NaN</td>\n",
       "      <td>27.00</td>\n",
       "      <td>13.0</td>\n",
       "      <td>28.1</td>\n",
       "      <td>60.60</td>\n",
       "      <td>-31.50</td>\n",
       "      <td>-29.75</td>\n",
       "      <td>-40.00</td>\n",
       "      <td>NaN</td>\n",
       "    </tr>\n",
       "    <tr>\n",
       "      <th>Panos</th>\n",
       "      <td>45.75</td>\n",
       "      <td>1.989130</td>\n",
       "      <td>23</td>\n",
       "      <td>-0.95</td>\n",
       "      <td>2.60</td>\n",
       "      <td>-3.45</td>\n",
       "      <td>-10.2</td>\n",
       "      <td>7.3</td>\n",
       "      <td>15.25</td>\n",
       "      <td>3.05</td>\n",
       "      <td>...</td>\n",
       "      <td>-40.00</td>\n",
       "      <td>-21.95</td>\n",
       "      <td>-26.95</td>\n",
       "      <td>-7.2</td>\n",
       "      <td>28.0</td>\n",
       "      <td>-35.20</td>\n",
       "      <td>NaN</td>\n",
       "      <td>-5.15</td>\n",
       "      <td>29.45</td>\n",
       "      <td>38.20</td>\n",
       "    </tr>\n",
       "    <tr>\n",
       "      <th>Kartik</th>\n",
       "      <td>154.85</td>\n",
       "      <td>9.678125</td>\n",
       "      <td>16</td>\n",
       "      <td>-5.00</td>\n",
       "      <td>NaN</td>\n",
       "      <td>12.70</td>\n",
       "      <td>9.7</td>\n",
       "      <td>17.8</td>\n",
       "      <td>11.20</td>\n",
       "      <td>NaN</td>\n",
       "      <td>...</td>\n",
       "      <td>NaN</td>\n",
       "      <td>71.75</td>\n",
       "      <td>-20.00</td>\n",
       "      <td>NaN</td>\n",
       "      <td>-20.0</td>\n",
       "      <td>33.85</td>\n",
       "      <td>-20.00</td>\n",
       "      <td>28.85</td>\n",
       "      <td>48.10</td>\n",
       "      <td>NaN</td>\n",
       "    </tr>\n",
       "  </tbody>\n",
       "</table>\n",
       "<p>5 rows × 28 columns</p>\n",
       "</div>"
      ],
      "text/plain": [
       "           NET       PPG  TABLES  2023-01-14 00:00:00  2023-01-21 00:00:00  \\\n",
       "Ashish   94.80  3.792000      25                -5.00                24.60   \n",
       "Sid     156.00  6.782609      23               -15.00               -10.00   \n",
       "Chris    82.00  3.565217      23                37.35                 1.15   \n",
       "Panos    45.75  1.989130      23                -0.95                 2.60   \n",
       "Kartik  154.85  9.678125      16                -5.00                  NaN   \n",
       "\n",
       "        2023-01-28 00:00:00  2023-02-10 00:00:00  2023-02-19 00:00:00  \\\n",
       "Ashish               -24.00                 28.7                -20.0   \n",
       "Sid                  -16.00                -20.0                -10.0   \n",
       "Chris                 13.35                  7.8                -38.0   \n",
       "Panos                 -3.45                -10.2                  7.3   \n",
       "Kartik                12.70                  9.7                 17.8   \n",
       "\n",
       "        2023-03-12 00:00:00  2023-04-02 00:00:00  ...  2023-07-30 00:00:00  \\\n",
       "Ashish                25.05                -0.55  ...               -47.00   \n",
       "Sid                   -3.40               -14.65  ...                41.35   \n",
       "Chris                -30.00                 6.00  ...               -41.50   \n",
       "Panos                 15.25                 3.05  ...               -40.00   \n",
       "Kartik                11.20                  NaN  ...                  NaN   \n",
       "\n",
       "        2023-08-04 00:00:00  2023-08-12 00:00:00  2023-08-17 00:00:00  \\\n",
       "Ashish                11.20                68.15                 10.1   \n",
       "Sid                  -20.00               -20.00                  NaN   \n",
       "Chris                   NaN                27.00                 13.0   \n",
       "Panos                -21.95               -26.95                 -7.2   \n",
       "Kartik                71.75               -20.00                  NaN   \n",
       "\n",
       "        2023-08-19 00:00:00  2023-08-20 00:00:00  2023-09-03 00:00:00  \\\n",
       "Ashish                -30.0               -75.75                26.35   \n",
       "Sid                     9.9                21.95                57.15   \n",
       "Chris                  28.1                60.60               -31.50   \n",
       "Panos                  28.0               -35.20                  NaN   \n",
       "Kartik                -20.0                33.85               -20.00   \n",
       "\n",
       "        2023-09-24 00:00:00  2023-10-01 00:00:00  2023-10-15 00:00:00  \n",
       "Ashish                 6.05                78.85                21.50  \n",
       "Sid                     NaN                63.10                34.85  \n",
       "Chris                -29.75               -40.00                  NaN  \n",
       "Panos                 -5.15                29.45                38.20  \n",
       "Kartik                28.85                48.10                  NaN  \n",
       "\n",
       "[5 rows x 28 columns]"
      ]
     },
     "execution_count": 44,
     "metadata": {},
     "output_type": "execute_result"
    }
   ],
   "source": [
    "df.head()"
   ]
  },
  {
   "cell_type": "markdown",
   "metadata": {},
   "source": [
    "# Profit/Loss against time analysis"
   ]
  },
  {
   "cell_type": "code",
   "execution_count": 45,
   "metadata": {},
   "outputs": [],
   "source": [
    "dftime2 = df.iloc[:,2:].T.copy() # tp be used for personal form calculation\n",
    "dftime3 = df.iloc[:,2:].T.copy() # tp be used for global form calculation\n",
    "df.fillna(0, inplace=True)\n",
    "dftime = df.iloc[:,2:].T.copy()"
   ]
  },
  {
   "cell_type": "code",
   "execution_count": 46,
   "metadata": {},
   "outputs": [
    {
     "data": {
      "text/html": [
       "<div>\n",
       "<style scoped>\n",
       "    .dataframe tbody tr th:only-of-type {\n",
       "        vertical-align: middle;\n",
       "    }\n",
       "\n",
       "    .dataframe tbody tr th {\n",
       "        vertical-align: top;\n",
       "    }\n",
       "\n",
       "    .dataframe thead th {\n",
       "        text-align: right;\n",
       "    }\n",
       "</style>\n",
       "<table border=\"1\" class=\"dataframe\">\n",
       "  <thead>\n",
       "    <tr style=\"text-align: right;\">\n",
       "      <th></th>\n",
       "      <th>Date</th>\n",
       "      <th>Ashish</th>\n",
       "      <th>Sid</th>\n",
       "      <th>Chris</th>\n",
       "      <th>Panos</th>\n",
       "      <th>Kartik</th>\n",
       "      <th>Tanish</th>\n",
       "      <th>Guests</th>\n",
       "    </tr>\n",
       "  </thead>\n",
       "  <tbody>\n",
       "    <tr>\n",
       "      <th>0</th>\n",
       "      <td>2023-01-14</td>\n",
       "      <td>-5.0</td>\n",
       "      <td>-15.0</td>\n",
       "      <td>37.35</td>\n",
       "      <td>-0.95</td>\n",
       "      <td>-5.0</td>\n",
       "      <td>-10.0</td>\n",
       "      <td>-1.40</td>\n",
       "    </tr>\n",
       "    <tr>\n",
       "      <th>1</th>\n",
       "      <td>2023-01-21</td>\n",
       "      <td>19.6</td>\n",
       "      <td>-25.0</td>\n",
       "      <td>38.50</td>\n",
       "      <td>1.65</td>\n",
       "      <td>-5.0</td>\n",
       "      <td>-10.0</td>\n",
       "      <td>-19.75</td>\n",
       "    </tr>\n",
       "    <tr>\n",
       "      <th>2</th>\n",
       "      <td>2023-01-28</td>\n",
       "      <td>-4.4</td>\n",
       "      <td>-41.0</td>\n",
       "      <td>51.85</td>\n",
       "      <td>-1.80</td>\n",
       "      <td>7.7</td>\n",
       "      <td>-15.0</td>\n",
       "      <td>2.65</td>\n",
       "    </tr>\n",
       "    <tr>\n",
       "      <th>3</th>\n",
       "      <td>2023-02-10</td>\n",
       "      <td>24.3</td>\n",
       "      <td>-61.0</td>\n",
       "      <td>59.65</td>\n",
       "      <td>-12.00</td>\n",
       "      <td>17.4</td>\n",
       "      <td>-15.0</td>\n",
       "      <td>-13.35</td>\n",
       "    </tr>\n",
       "    <tr>\n",
       "      <th>4</th>\n",
       "      <td>2023-02-19</td>\n",
       "      <td>4.3</td>\n",
       "      <td>-71.0</td>\n",
       "      <td>21.65</td>\n",
       "      <td>-4.70</td>\n",
       "      <td>35.2</td>\n",
       "      <td>34.2</td>\n",
       "      <td>-19.65</td>\n",
       "    </tr>\n",
       "  </tbody>\n",
       "</table>\n",
       "</div>"
      ],
      "text/plain": [
       "        Date  Ashish   Sid  Chris  Panos  Kartik  Tanish  Guests\n",
       "0 2023-01-14    -5.0 -15.0  37.35  -0.95    -5.0   -10.0   -1.40\n",
       "1 2023-01-21    19.6 -25.0  38.50   1.65    -5.0   -10.0  -19.75\n",
       "2 2023-01-28    -4.4 -41.0  51.85  -1.80     7.7   -15.0    2.65\n",
       "3 2023-02-10    24.3 -61.0  59.65 -12.00    17.4   -15.0  -13.35\n",
       "4 2023-02-19     4.3 -71.0  21.65  -4.70    35.2    34.2  -19.65"
      ]
     },
     "execution_count": 46,
     "metadata": {},
     "output_type": "execute_result"
    }
   ],
   "source": [
    "dftime['Guests'] = dftime.T[dftime.T['TABLES'] < 10].sum().to_frame() #sum all guest values for by date\n",
    "dftime = dftime[['Ashish','Sid','Chris','Panos','Kartik','Tanish','Guests']] #create the new table\n",
    "dftime.drop(index='TABLES' , inplace= True)\n",
    "dftime = dftime.rename_axis('Date').reset_index()\n",
    "#dftime['Date'] = dftime['Date'].dt.strftime('%d-%m')\n",
    "\n",
    "# Initialize variables to keep track of cumulative sums for each column\n",
    "cumulative_sums = {col: 0 for col in dftime.columns[1:]}\n",
    "\n",
    "# Iterate through the columns and update values\n",
    "for col in dftime.columns[1:]:\n",
    "    for index, row in dftime.iterrows():\n",
    "        cumulative_sums[col] += row[col]\n",
    "        dftime.at[index, col] = cumulative_sums[col]\n",
    "\n",
    "dftime.head()"
   ]
  },
  {
   "cell_type": "code",
   "execution_count": 47,
   "metadata": {},
   "outputs": [
    {
     "data": {
      "text/html": [
       "<div>\n",
       "<style scoped>\n",
       "    .dataframe tbody tr th:only-of-type {\n",
       "        vertical-align: middle;\n",
       "    }\n",
       "\n",
       "    .dataframe tbody tr th {\n",
       "        vertical-align: top;\n",
       "    }\n",
       "\n",
       "    .dataframe thead th {\n",
       "        text-align: right;\n",
       "    }\n",
       "</style>\n",
       "<table border=\"1\" class=\"dataframe\">\n",
       "  <thead>\n",
       "    <tr style=\"text-align: right;\">\n",
       "      <th></th>\n",
       "      <th>Date</th>\n",
       "      <th>Player</th>\n",
       "      <th>Net Profit/Loss</th>\n",
       "    </tr>\n",
       "  </thead>\n",
       "  <tbody>\n",
       "    <tr>\n",
       "      <th>0</th>\n",
       "      <td>14-Jan</td>\n",
       "      <td>Ashish</td>\n",
       "      <td>-5.00</td>\n",
       "    </tr>\n",
       "    <tr>\n",
       "      <th>1</th>\n",
       "      <td>21-Jan</td>\n",
       "      <td>Ashish</td>\n",
       "      <td>19.60</td>\n",
       "    </tr>\n",
       "    <tr>\n",
       "      <th>2</th>\n",
       "      <td>28-Jan</td>\n",
       "      <td>Ashish</td>\n",
       "      <td>-4.40</td>\n",
       "    </tr>\n",
       "    <tr>\n",
       "      <th>3</th>\n",
       "      <td>10-Feb</td>\n",
       "      <td>Ashish</td>\n",
       "      <td>24.30</td>\n",
       "    </tr>\n",
       "    <tr>\n",
       "      <th>4</th>\n",
       "      <td>19-Feb</td>\n",
       "      <td>Ashish</td>\n",
       "      <td>4.30</td>\n",
       "    </tr>\n",
       "    <tr>\n",
       "      <th>...</th>\n",
       "      <td>...</td>\n",
       "      <td>...</td>\n",
       "      <td>...</td>\n",
       "    </tr>\n",
       "    <tr>\n",
       "      <th>170</th>\n",
       "      <td>20-Aug</td>\n",
       "      <td>Guests</td>\n",
       "      <td>-181.85</td>\n",
       "    </tr>\n",
       "    <tr>\n",
       "      <th>171</th>\n",
       "      <td>03-Sep</td>\n",
       "      <td>Guests</td>\n",
       "      <td>-173.85</td>\n",
       "    </tr>\n",
       "    <tr>\n",
       "      <th>172</th>\n",
       "      <td>24-Sep</td>\n",
       "      <td>Guests</td>\n",
       "      <td>-173.85</td>\n",
       "    </tr>\n",
       "    <tr>\n",
       "      <th>173</th>\n",
       "      <td>01-Oct</td>\n",
       "      <td>Guests</td>\n",
       "      <td>-313.35</td>\n",
       "    </tr>\n",
       "    <tr>\n",
       "      <th>174</th>\n",
       "      <td>15-Oct</td>\n",
       "      <td>Guests</td>\n",
       "      <td>-395.25</td>\n",
       "    </tr>\n",
       "  </tbody>\n",
       "</table>\n",
       "<p>175 rows × 3 columns</p>\n",
       "</div>"
      ],
      "text/plain": [
       "       Date  Player  Net Profit/Loss\n",
       "0    14-Jan  Ashish            -5.00\n",
       "1    21-Jan  Ashish            19.60\n",
       "2    28-Jan  Ashish            -4.40\n",
       "3    10-Feb  Ashish            24.30\n",
       "4    19-Feb  Ashish             4.30\n",
       "..      ...     ...              ...\n",
       "170  20-Aug  Guests          -181.85\n",
       "171  03-Sep  Guests          -173.85\n",
       "172  24-Sep  Guests          -173.85\n",
       "173  01-Oct  Guests          -313.35\n",
       "174  15-Oct  Guests          -395.25\n",
       "\n",
       "[175 rows x 3 columns]"
      ]
     },
     "execution_count": 47,
     "metadata": {},
     "output_type": "execute_result"
    }
   ],
   "source": [
    "dftime['Date'] = dftime['Date'].dt.strftime('%d-%b') #change the date format\n",
    "dftime_melt = dftime.melt(id_vars='Date', value_vars=list(dftime.columns[1:])).rename({'variable':'Player','value':'Net Profit/Loss'}, axis='columns') #melt the table and rename the new columns\n",
    "dftime_melt['Net Profit/Loss'] = round(dftime_melt['Net Profit/Loss'],2) # round all values to 2 decimal points\n",
    "dftime_melt"
   ]
  },
  {
   "cell_type": "markdown",
   "metadata": {},
   "source": [
    "## Group Analysis"
   ]
  },
  {
   "cell_type": "code",
   "execution_count": 48,
   "metadata": {},
   "outputs": [
    {
     "data": {
      "application/vnd.plotly.v1+json": {
       "config": {
        "plotlyServerURL": "https://plot.ly"
       },
       "data": [
        {
         "alignmentgroup": "True",
         "hovertemplate": "Date=14-Jan<br>Player=%{x}<br>Net Profit/Loss=%{marker.color}<extra></extra>",
         "legendgroup": "",
         "marker": {
          "color": [
           -5,
           -15,
           37.35,
           -0.95,
           -5,
           -10,
           -1.4
          ],
          "coloraxis": "coloraxis",
          "pattern": {
           "shape": ""
          }
         },
         "name": "",
         "offsetgroup": "",
         "orientation": "v",
         "showlegend": false,
         "textangle": 0,
         "textfont": {
          "size": 12
         },
         "textposition": "outside",
         "type": "bar",
         "x": [
          "Ashish",
          "Sid",
          "Chris",
          "Panos",
          "Kartik",
          "Tanish",
          "Guests"
         ],
         "xaxis": "x",
         "y": [
          -5,
          -15,
          37.35,
          -0.95,
          -5,
          -10,
          -1.4
         ],
         "yaxis": "y"
        }
       ],
       "frames": [
        {
         "data": [
          {
           "alignmentgroup": "True",
           "hovertemplate": "Date=14-Jan<br>Player=%{x}<br>Net Profit/Loss=%{marker.color}<extra></extra>",
           "legendgroup": "",
           "marker": {
            "color": [
             -5,
             -15,
             37.35,
             -0.95,
             -5,
             -10,
             -1.4
            ],
            "coloraxis": "coloraxis",
            "pattern": {
             "shape": ""
            }
           },
           "name": "",
           "offsetgroup": "",
           "orientation": "v",
           "showlegend": false,
           "textposition": "auto",
           "type": "bar",
           "x": [
            "Ashish",
            "Sid",
            "Chris",
            "Panos",
            "Kartik",
            "Tanish",
            "Guests"
           ],
           "xaxis": "x",
           "y": [
            -5,
            -15,
            37.35,
            -0.95,
            -5,
            -10,
            -1.4
           ],
           "yaxis": "y"
          }
         ],
         "name": "14-Jan"
        },
        {
         "data": [
          {
           "alignmentgroup": "True",
           "hovertemplate": "Date=21-Jan<br>Player=%{x}<br>Net Profit/Loss=%{marker.color}<extra></extra>",
           "legendgroup": "",
           "marker": {
            "color": [
             19.6,
             -25,
             38.5,
             1.65,
             -5,
             -10,
             -19.75
            ],
            "coloraxis": "coloraxis",
            "pattern": {
             "shape": ""
            }
           },
           "name": "",
           "offsetgroup": "",
           "orientation": "v",
           "showlegend": false,
           "textposition": "auto",
           "type": "bar",
           "x": [
            "Ashish",
            "Sid",
            "Chris",
            "Panos",
            "Kartik",
            "Tanish",
            "Guests"
           ],
           "xaxis": "x",
           "y": [
            19.6,
            -25,
            38.5,
            1.65,
            -5,
            -10,
            -19.75
           ],
           "yaxis": "y"
          }
         ],
         "name": "21-Jan"
        },
        {
         "data": [
          {
           "alignmentgroup": "True",
           "hovertemplate": "Date=28-Jan<br>Player=%{x}<br>Net Profit/Loss=%{marker.color}<extra></extra>",
           "legendgroup": "",
           "marker": {
            "color": [
             -4.4,
             -41,
             51.85,
             -1.8,
             7.7,
             -15,
             2.65
            ],
            "coloraxis": "coloraxis",
            "pattern": {
             "shape": ""
            }
           },
           "name": "",
           "offsetgroup": "",
           "orientation": "v",
           "showlegend": false,
           "textposition": "auto",
           "type": "bar",
           "x": [
            "Ashish",
            "Sid",
            "Chris",
            "Panos",
            "Kartik",
            "Tanish",
            "Guests"
           ],
           "xaxis": "x",
           "y": [
            -4.4,
            -41,
            51.85,
            -1.8,
            7.7,
            -15,
            2.65
           ],
           "yaxis": "y"
          }
         ],
         "name": "28-Jan"
        },
        {
         "data": [
          {
           "alignmentgroup": "True",
           "hovertemplate": "Date=10-Feb<br>Player=%{x}<br>Net Profit/Loss=%{marker.color}<extra></extra>",
           "legendgroup": "",
           "marker": {
            "color": [
             24.3,
             -61,
             59.65,
             -12,
             17.4,
             -15,
             -13.35
            ],
            "coloraxis": "coloraxis",
            "pattern": {
             "shape": ""
            }
           },
           "name": "",
           "offsetgroup": "",
           "orientation": "v",
           "showlegend": false,
           "textposition": "auto",
           "type": "bar",
           "x": [
            "Ashish",
            "Sid",
            "Chris",
            "Panos",
            "Kartik",
            "Tanish",
            "Guests"
           ],
           "xaxis": "x",
           "y": [
            24.3,
            -61,
            59.65,
            -12,
            17.4,
            -15,
            -13.35
           ],
           "yaxis": "y"
          }
         ],
         "name": "10-Feb"
        },
        {
         "data": [
          {
           "alignmentgroup": "True",
           "hovertemplate": "Date=19-Feb<br>Player=%{x}<br>Net Profit/Loss=%{marker.color}<extra></extra>",
           "legendgroup": "",
           "marker": {
            "color": [
             4.3,
             -71,
             21.65,
             -4.7,
             35.2,
             34.2,
             -19.65
            ],
            "coloraxis": "coloraxis",
            "pattern": {
             "shape": ""
            }
           },
           "name": "",
           "offsetgroup": "",
           "orientation": "v",
           "showlegend": false,
           "textposition": "auto",
           "type": "bar",
           "x": [
            "Ashish",
            "Sid",
            "Chris",
            "Panos",
            "Kartik",
            "Tanish",
            "Guests"
           ],
           "xaxis": "x",
           "y": [
            4.3,
            -71,
            21.65,
            -4.7,
            35.2,
            34.2,
            -19.65
           ],
           "yaxis": "y"
          }
         ],
         "name": "19-Feb"
        },
        {
         "data": [
          {
           "alignmentgroup": "True",
           "hovertemplate": "Date=12-Mar<br>Player=%{x}<br>Net Profit/Loss=%{marker.color}<extra></extra>",
           "legendgroup": "",
           "marker": {
            "color": [
             29.35,
             -74.4,
             -8.35,
             10.55,
             46.4,
             -0.8,
             -2.75
            ],
            "coloraxis": "coloraxis",
            "pattern": {
             "shape": ""
            }
           },
           "name": "",
           "offsetgroup": "",
           "orientation": "v",
           "showlegend": false,
           "textposition": "auto",
           "type": "bar",
           "x": [
            "Ashish",
            "Sid",
            "Chris",
            "Panos",
            "Kartik",
            "Tanish",
            "Guests"
           ],
           "xaxis": "x",
           "y": [
            29.35,
            -74.4,
            -8.35,
            10.55,
            46.4,
            -0.8,
            -2.75
           ],
           "yaxis": "y"
          }
         ],
         "name": "12-Mar"
        },
        {
         "data": [
          {
           "alignmentgroup": "True",
           "hovertemplate": "Date=02-Apr<br>Player=%{x}<br>Net Profit/Loss=%{marker.color}<extra></extra>",
           "legendgroup": "",
           "marker": {
            "color": [
             28.8,
             -89.05,
             -2.35,
             13.6,
             46.4,
             -20.8,
             23.4
            ],
            "coloraxis": "coloraxis",
            "pattern": {
             "shape": ""
            }
           },
           "name": "",
           "offsetgroup": "",
           "orientation": "v",
           "showlegend": false,
           "textposition": "auto",
           "type": "bar",
           "x": [
            "Ashish",
            "Sid",
            "Chris",
            "Panos",
            "Kartik",
            "Tanish",
            "Guests"
           ],
           "xaxis": "x",
           "y": [
            28.8,
            -89.05,
            -2.35,
            13.6,
            46.4,
            -20.8,
            23.4
           ],
           "yaxis": "y"
          }
         ],
         "name": "02-Apr"
        },
        {
         "data": [
          {
           "alignmentgroup": "True",
           "hovertemplate": "Date=08-Apr<br>Player=%{x}<br>Net Profit/Loss=%{marker.color}<extra></extra>",
           "legendgroup": "",
           "marker": {
            "color": [
             59.95,
             -76.95,
             29.15,
             -17.7,
             46.4,
             -50.8,
             9.95
            ],
            "coloraxis": "coloraxis",
            "pattern": {
             "shape": ""
            }
           },
           "name": "",
           "offsetgroup": "",
           "orientation": "v",
           "showlegend": false,
           "textposition": "auto",
           "type": "bar",
           "x": [
            "Ashish",
            "Sid",
            "Chris",
            "Panos",
            "Kartik",
            "Tanish",
            "Guests"
           ],
           "xaxis": "x",
           "y": [
            59.95,
            -76.95,
            29.15,
            -17.7,
            46.4,
            -50.8,
            9.95
           ],
           "yaxis": "y"
          }
         ],
         "name": "08-Apr"
        },
        {
         "data": [
          {
           "alignmentgroup": "True",
           "hovertemplate": "Date=29-May<br>Player=%{x}<br>Net Profit/Loss=%{marker.color}<extra></extra>",
           "legendgroup": "",
           "marker": {
            "color": [
             28.65,
             -71.25,
             35.25,
             54.3,
             26.4,
             -70.8,
             -2.55
            ],
            "coloraxis": "coloraxis",
            "pattern": {
             "shape": ""
            }
           },
           "name": "",
           "offsetgroup": "",
           "orientation": "v",
           "showlegend": false,
           "textposition": "auto",
           "type": "bar",
           "x": [
            "Ashish",
            "Sid",
            "Chris",
            "Panos",
            "Kartik",
            "Tanish",
            "Guests"
           ],
           "xaxis": "x",
           "y": [
            28.65,
            -71.25,
            35.25,
            54.3,
            26.4,
            -70.8,
            -2.55
           ],
           "yaxis": "y"
          }
         ],
         "name": "29-May"
        },
        {
         "data": [
          {
           "alignmentgroup": "True",
           "hovertemplate": "Date=04-Jun<br>Player=%{x}<br>Net Profit/Loss=%{marker.color}<extra></extra>",
           "legendgroup": "",
           "marker": {
            "color": [
             18.15,
             -39.7,
             45.8,
             54.3,
             23.45,
             -70.8,
             -31.2
            ],
            "coloraxis": "coloraxis",
            "pattern": {
             "shape": ""
            }
           },
           "name": "",
           "offsetgroup": "",
           "orientation": "v",
           "showlegend": false,
           "textposition": "auto",
           "type": "bar",
           "x": [
            "Ashish",
            "Sid",
            "Chris",
            "Panos",
            "Kartik",
            "Tanish",
            "Guests"
           ],
           "xaxis": "x",
           "y": [
            18.15,
            -39.7,
            45.8,
            54.3,
            23.45,
            -70.8,
            -31.2
           ],
           "yaxis": "y"
          }
         ],
         "name": "04-Jun"
        },
        {
         "data": [
          {
           "alignmentgroup": "True",
           "hovertemplate": "Date=11-Jun<br>Player=%{x}<br>Net Profit/Loss=%{marker.color}<extra></extra>",
           "legendgroup": "",
           "marker": {
            "color": [
             15.5,
             -10.9,
             51.8,
             51.5,
             23.45,
             -35.05,
             -96.3
            ],
            "coloraxis": "coloraxis",
            "pattern": {
             "shape": ""
            }
           },
           "name": "",
           "offsetgroup": "",
           "orientation": "v",
           "showlegend": false,
           "textposition": "auto",
           "type": "bar",
           "x": [
            "Ashish",
            "Sid",
            "Chris",
            "Panos",
            "Kartik",
            "Tanish",
            "Guests"
           ],
           "xaxis": "x",
           "y": [
            15.5,
            -10.9,
            51.8,
            51.5,
            23.45,
            -35.05,
            -96.3
           ],
           "yaxis": "y"
          }
         ],
         "name": "11-Jun"
        },
        {
         "data": [
          {
           "alignmentgroup": "True",
           "hovertemplate": "Date=18-Jun<br>Player=%{x}<br>Net Profit/Loss=%{marker.color}<extra></extra>",
           "legendgroup": "",
           "marker": {
            "color": [
             85.7,
             -26.1,
             85.85,
             68.3,
             23.45,
             -75.05,
             -162.15
            ],
            "coloraxis": "coloraxis",
            "pattern": {
             "shape": ""
            }
           },
           "name": "",
           "offsetgroup": "",
           "orientation": "v",
           "showlegend": false,
           "textposition": "auto",
           "type": "bar",
           "x": [
            "Ashish",
            "Sid",
            "Chris",
            "Panos",
            "Kartik",
            "Tanish",
            "Guests"
           ],
           "xaxis": "x",
           "y": [
            85.7,
            -26.1,
            85.85,
            68.3,
            23.45,
            -75.05,
            -162.15
           ],
           "yaxis": "y"
          }
         ],
         "name": "18-Jun"
        },
        {
         "data": [
          {
           "alignmentgroup": "True",
           "hovertemplate": "Date=24-Jun<br>Player=%{x}<br>Net Profit/Loss=%{marker.color}<extra></extra>",
           "legendgroup": "",
           "marker": {
            "color": [
             74.75,
             -24.45,
             45.85,
             77.9,
             23.45,
             -75.05,
             -122.45
            ],
            "coloraxis": "coloraxis",
            "pattern": {
             "shape": ""
            }
           },
           "name": "",
           "offsetgroup": "",
           "orientation": "v",
           "showlegend": false,
           "textposition": "auto",
           "type": "bar",
           "x": [
            "Ashish",
            "Sid",
            "Chris",
            "Panos",
            "Kartik",
            "Tanish",
            "Guests"
           ],
           "xaxis": "x",
           "y": [
            74.75,
            -24.45,
            45.85,
            77.9,
            23.45,
            -75.05,
            -122.45
           ],
           "yaxis": "y"
          }
         ],
         "name": "24-Jun"
        },
        {
         "data": [
          {
           "alignmentgroup": "True",
           "hovertemplate": "Date=02-Jul<br>Player=%{x}<br>Net Profit/Loss=%{marker.color}<extra></extra>",
           "legendgroup": "",
           "marker": {
            "color": [
             61.25,
             -44.45,
             52.85,
             96.55,
             16.3,
             -60.05,
             -122.45
            ],
            "coloraxis": "coloraxis",
            "pattern": {
             "shape": ""
            }
           },
           "name": "",
           "offsetgroup": "",
           "orientation": "v",
           "showlegend": false,
           "textposition": "auto",
           "type": "bar",
           "x": [
            "Ashish",
            "Sid",
            "Chris",
            "Panos",
            "Kartik",
            "Tanish",
            "Guests"
           ],
           "xaxis": "x",
           "y": [
            61.25,
            -44.45,
            52.85,
            96.55,
            16.3,
            -60.05,
            -122.45
           ],
           "yaxis": "y"
          }
         ],
         "name": "02-Jul"
        },
        {
         "data": [
          {
           "alignmentgroup": "True",
           "hovertemplate": "Date=23-Jul<br>Player=%{x}<br>Net Profit/Loss=%{marker.color}<extra></extra>",
           "legendgroup": "",
           "marker": {
            "color": [
             25.35,
             -32.3,
             96.05,
             86.55,
             32.3,
             -60.05,
             -147.9
            ],
            "coloraxis": "coloraxis",
            "pattern": {
             "shape": ""
            }
           },
           "name": "",
           "offsetgroup": "",
           "orientation": "v",
           "showlegend": false,
           "textposition": "auto",
           "type": "bar",
           "x": [
            "Ashish",
            "Sid",
            "Chris",
            "Panos",
            "Kartik",
            "Tanish",
            "Guests"
           ],
           "xaxis": "x",
           "y": [
            25.35,
            -32.3,
            96.05,
            86.55,
            32.3,
            -60.05,
            -147.9
           ],
           "yaxis": "y"
          }
         ],
         "name": "23-Jul"
        },
        {
         "data": [
          {
           "alignmentgroup": "True",
           "hovertemplate": "Date=30-Jul<br>Player=%{x}<br>Net Profit/Loss=%{marker.color}<extra></extra>",
           "legendgroup": "",
           "marker": {
            "color": [
             -21.65,
             9.05,
             54.55,
             46.55,
             32.3,
             -60.05,
             -60.75
            ],
            "coloraxis": "coloraxis",
            "pattern": {
             "shape": ""
            }
           },
           "name": "",
           "offsetgroup": "",
           "orientation": "v",
           "showlegend": false,
           "textposition": "auto",
           "type": "bar",
           "x": [
            "Ashish",
            "Sid",
            "Chris",
            "Panos",
            "Kartik",
            "Tanish",
            "Guests"
           ],
           "xaxis": "x",
           "y": [
            -21.65,
            9.05,
            54.55,
            46.55,
            32.3,
            -60.05,
            -60.75
           ],
           "yaxis": "y"
          }
         ],
         "name": "30-Jul"
        },
        {
         "data": [
          {
           "alignmentgroup": "True",
           "hovertemplate": "Date=04-Aug<br>Player=%{x}<br>Net Profit/Loss=%{marker.color}<extra></extra>",
           "legendgroup": "",
           "marker": {
            "color": [
             -10.45,
             -10.95,
             54.55,
             24.6,
             104.05,
             -60.05,
             -101.75
            ],
            "coloraxis": "coloraxis",
            "pattern": {
             "shape": ""
            }
           },
           "name": "",
           "offsetgroup": "",
           "orientation": "v",
           "showlegend": false,
           "textposition": "auto",
           "type": "bar",
           "x": [
            "Ashish",
            "Sid",
            "Chris",
            "Panos",
            "Kartik",
            "Tanish",
            "Guests"
           ],
           "xaxis": "x",
           "y": [
            -10.45,
            -10.95,
            54.55,
            24.6,
            104.05,
            -60.05,
            -101.75
           ],
           "yaxis": "y"
          }
         ],
         "name": "04-Aug"
        },
        {
         "data": [
          {
           "alignmentgroup": "True",
           "hovertemplate": "Date=12-Aug<br>Player=%{x}<br>Net Profit/Loss=%{marker.color}<extra></extra>",
           "legendgroup": "",
           "marker": {
            "color": [
             57.7,
             -30.95,
             81.55,
             -2.35,
             84.05,
             -100.05,
             -89.95
            ],
            "coloraxis": "coloraxis",
            "pattern": {
             "shape": ""
            }
           },
           "name": "",
           "offsetgroup": "",
           "orientation": "v",
           "showlegend": false,
           "textposition": "auto",
           "type": "bar",
           "x": [
            "Ashish",
            "Sid",
            "Chris",
            "Panos",
            "Kartik",
            "Tanish",
            "Guests"
           ],
           "xaxis": "x",
           "y": [
            57.7,
            -30.95,
            81.55,
            -2.35,
            84.05,
            -100.05,
            -89.95
           ],
           "yaxis": "y"
          }
         ],
         "name": "12-Aug"
        },
        {
         "data": [
          {
           "alignmentgroup": "True",
           "hovertemplate": "Date=17-Aug<br>Player=%{x}<br>Net Profit/Loss=%{marker.color}<extra></extra>",
           "legendgroup": "",
           "marker": {
            "color": [
             67.8,
             -30.95,
             94.55,
             -9.55,
             84.05,
             -100.05,
             -105.85
            ],
            "coloraxis": "coloraxis",
            "pattern": {
             "shape": ""
            }
           },
           "name": "",
           "offsetgroup": "",
           "orientation": "v",
           "showlegend": false,
           "textposition": "auto",
           "type": "bar",
           "x": [
            "Ashish",
            "Sid",
            "Chris",
            "Panos",
            "Kartik",
            "Tanish",
            "Guests"
           ],
           "xaxis": "x",
           "y": [
            67.8,
            -30.95,
            94.55,
            -9.55,
            84.05,
            -100.05,
            -105.85
           ],
           "yaxis": "y"
          }
         ],
         "name": "17-Aug"
        },
        {
         "data": [
          {
           "alignmentgroup": "True",
           "hovertemplate": "Date=19-Aug<br>Player=%{x}<br>Net Profit/Loss=%{marker.color}<extra></extra>",
           "legendgroup": "",
           "marker": {
            "color": [
             37.8,
             -21.05,
             122.65,
             18.45,
             64.05,
             -100.05,
             -121.85
            ],
            "coloraxis": "coloraxis",
            "pattern": {
             "shape": ""
            }
           },
           "name": "",
           "offsetgroup": "",
           "orientation": "v",
           "showlegend": false,
           "textposition": "auto",
           "type": "bar",
           "x": [
            "Ashish",
            "Sid",
            "Chris",
            "Panos",
            "Kartik",
            "Tanish",
            "Guests"
           ],
           "xaxis": "x",
           "y": [
            37.8,
            -21.05,
            122.65,
            18.45,
            64.05,
            -100.05,
            -121.85
           ],
           "yaxis": "y"
          }
         ],
         "name": "19-Aug"
        },
        {
         "data": [
          {
           "alignmentgroup": "True",
           "hovertemplate": "Date=20-Aug<br>Player=%{x}<br>Net Profit/Loss=%{marker.color}<extra></extra>",
           "legendgroup": "",
           "marker": {
            "color": [
             -37.95,
             0.9,
             183.25,
             -16.75,
             97.9,
             -45.5,
             -181.85
            ],
            "coloraxis": "coloraxis",
            "pattern": {
             "shape": ""
            }
           },
           "name": "",
           "offsetgroup": "",
           "orientation": "v",
           "showlegend": false,
           "textposition": "auto",
           "type": "bar",
           "x": [
            "Ashish",
            "Sid",
            "Chris",
            "Panos",
            "Kartik",
            "Tanish",
            "Guests"
           ],
           "xaxis": "x",
           "y": [
            -37.95,
            0.9,
            183.25,
            -16.75,
            97.9,
            -45.5,
            -181.85
           ],
           "yaxis": "y"
          }
         ],
         "name": "20-Aug"
        },
        {
         "data": [
          {
           "alignmentgroup": "True",
           "hovertemplate": "Date=03-Sep<br>Player=%{x}<br>Net Profit/Loss=%{marker.color}<extra></extra>",
           "legendgroup": "",
           "marker": {
            "color": [
             -11.6,
             58.05,
             151.75,
             -16.75,
             77.9,
             -85.5,
             -173.85
            ],
            "coloraxis": "coloraxis",
            "pattern": {
             "shape": ""
            }
           },
           "name": "",
           "offsetgroup": "",
           "orientation": "v",
           "showlegend": false,
           "textposition": "auto",
           "type": "bar",
           "x": [
            "Ashish",
            "Sid",
            "Chris",
            "Panos",
            "Kartik",
            "Tanish",
            "Guests"
           ],
           "xaxis": "x",
           "y": [
            -11.6,
            58.05,
            151.75,
            -16.75,
            77.9,
            -85.5,
            -173.85
           ],
           "yaxis": "y"
          }
         ],
         "name": "03-Sep"
        },
        {
         "data": [
          {
           "alignmentgroup": "True",
           "hovertemplate": "Date=24-Sep<br>Player=%{x}<br>Net Profit/Loss=%{marker.color}<extra></extra>",
           "legendgroup": "",
           "marker": {
            "color": [
             -5.55,
             58.05,
             122,
             -21.9,
             106.75,
             -85.5,
             -173.85
            ],
            "coloraxis": "coloraxis",
            "pattern": {
             "shape": ""
            }
           },
           "name": "",
           "offsetgroup": "",
           "orientation": "v",
           "showlegend": false,
           "textposition": "auto",
           "type": "bar",
           "x": [
            "Ashish",
            "Sid",
            "Chris",
            "Panos",
            "Kartik",
            "Tanish",
            "Guests"
           ],
           "xaxis": "x",
           "y": [
            -5.55,
            58.05,
            122,
            -21.9,
            106.75,
            -85.5,
            -173.85
           ],
           "yaxis": "y"
          }
         ],
         "name": "24-Sep"
        },
        {
         "data": [
          {
           "alignmentgroup": "True",
           "hovertemplate": "Date=01-Oct<br>Player=%{x}<br>Net Profit/Loss=%{marker.color}<extra></extra>",
           "legendgroup": "",
           "marker": {
            "color": [
             73.3,
             121.15,
             82,
             7.55,
             154.85,
             -125.5,
             -313.35
            ],
            "coloraxis": "coloraxis",
            "pattern": {
             "shape": ""
            }
           },
           "name": "",
           "offsetgroup": "",
           "orientation": "v",
           "showlegend": false,
           "textposition": "auto",
           "type": "bar",
           "x": [
            "Ashish",
            "Sid",
            "Chris",
            "Panos",
            "Kartik",
            "Tanish",
            "Guests"
           ],
           "xaxis": "x",
           "y": [
            73.3,
            121.15,
            82,
            7.55,
            154.85,
            -125.5,
            -313.35
           ],
           "yaxis": "y"
          }
         ],
         "name": "01-Oct"
        },
        {
         "data": [
          {
           "alignmentgroup": "True",
           "hovertemplate": "Date=15-Oct<br>Player=%{x}<br>Net Profit/Loss=%{marker.color}<extra></extra>",
           "legendgroup": "",
           "marker": {
            "color": [
             94.8,
             156,
             82,
             45.75,
             154.85,
             -138.15,
             -395.25
            ],
            "coloraxis": "coloraxis",
            "pattern": {
             "shape": ""
            }
           },
           "name": "",
           "offsetgroup": "",
           "orientation": "v",
           "showlegend": false,
           "textposition": "auto",
           "type": "bar",
           "x": [
            "Ashish",
            "Sid",
            "Chris",
            "Panos",
            "Kartik",
            "Tanish",
            "Guests"
           ],
           "xaxis": "x",
           "y": [
            94.8,
            156,
            82,
            45.75,
            154.85,
            -138.15,
            -395.25
           ],
           "yaxis": "y"
          }
         ],
         "name": "15-Oct"
        }
       ],
       "layout": {
        "barmode": "relative",
        "coloraxis": {
         "cmax": 200,
         "cmin": -500,
         "colorbar": {
          "title": {
           "text": "Net Profit/Loss"
          }
         },
         "colorscale": [
          [
           0,
           "#0d0887"
          ],
          [
           0.1111111111111111,
           "#46039f"
          ],
          [
           0.2222222222222222,
           "#7201a8"
          ],
          [
           0.3333333333333333,
           "#9c179e"
          ],
          [
           0.4444444444444444,
           "#bd3786"
          ],
          [
           0.5555555555555556,
           "#d8576b"
          ],
          [
           0.6666666666666666,
           "#ed7953"
          ],
          [
           0.7777777777777778,
           "#fb9f3a"
          ],
          [
           0.8888888888888888,
           "#fdca26"
          ],
          [
           1,
           "#f0f921"
          ]
         ]
        },
        "height": 800,
        "legend": {
         "tracegroupgap": 0
        },
        "margin": {
         "t": 60
        },
        "sliders": [
         {
          "active": 0,
          "currentvalue": {
           "prefix": "Date="
          },
          "len": 0.9,
          "pad": {
           "b": 10,
           "t": 60
          },
          "steps": [
           {
            "args": [
             [
              "14-Jan"
             ],
             {
              "frame": {
               "duration": 0,
               "redraw": true
              },
              "fromcurrent": true,
              "mode": "immediate",
              "transition": {
               "duration": 0,
               "easing": "linear"
              }
             }
            ],
            "label": "14-Jan",
            "method": "animate"
           },
           {
            "args": [
             [
              "21-Jan"
             ],
             {
              "frame": {
               "duration": 0,
               "redraw": true
              },
              "fromcurrent": true,
              "mode": "immediate",
              "transition": {
               "duration": 0,
               "easing": "linear"
              }
             }
            ],
            "label": "21-Jan",
            "method": "animate"
           },
           {
            "args": [
             [
              "28-Jan"
             ],
             {
              "frame": {
               "duration": 0,
               "redraw": true
              },
              "fromcurrent": true,
              "mode": "immediate",
              "transition": {
               "duration": 0,
               "easing": "linear"
              }
             }
            ],
            "label": "28-Jan",
            "method": "animate"
           },
           {
            "args": [
             [
              "10-Feb"
             ],
             {
              "frame": {
               "duration": 0,
               "redraw": true
              },
              "fromcurrent": true,
              "mode": "immediate",
              "transition": {
               "duration": 0,
               "easing": "linear"
              }
             }
            ],
            "label": "10-Feb",
            "method": "animate"
           },
           {
            "args": [
             [
              "19-Feb"
             ],
             {
              "frame": {
               "duration": 0,
               "redraw": true
              },
              "fromcurrent": true,
              "mode": "immediate",
              "transition": {
               "duration": 0,
               "easing": "linear"
              }
             }
            ],
            "label": "19-Feb",
            "method": "animate"
           },
           {
            "args": [
             [
              "12-Mar"
             ],
             {
              "frame": {
               "duration": 0,
               "redraw": true
              },
              "fromcurrent": true,
              "mode": "immediate",
              "transition": {
               "duration": 0,
               "easing": "linear"
              }
             }
            ],
            "label": "12-Mar",
            "method": "animate"
           },
           {
            "args": [
             [
              "02-Apr"
             ],
             {
              "frame": {
               "duration": 0,
               "redraw": true
              },
              "fromcurrent": true,
              "mode": "immediate",
              "transition": {
               "duration": 0,
               "easing": "linear"
              }
             }
            ],
            "label": "02-Apr",
            "method": "animate"
           },
           {
            "args": [
             [
              "08-Apr"
             ],
             {
              "frame": {
               "duration": 0,
               "redraw": true
              },
              "fromcurrent": true,
              "mode": "immediate",
              "transition": {
               "duration": 0,
               "easing": "linear"
              }
             }
            ],
            "label": "08-Apr",
            "method": "animate"
           },
           {
            "args": [
             [
              "29-May"
             ],
             {
              "frame": {
               "duration": 0,
               "redraw": true
              },
              "fromcurrent": true,
              "mode": "immediate",
              "transition": {
               "duration": 0,
               "easing": "linear"
              }
             }
            ],
            "label": "29-May",
            "method": "animate"
           },
           {
            "args": [
             [
              "04-Jun"
             ],
             {
              "frame": {
               "duration": 0,
               "redraw": true
              },
              "fromcurrent": true,
              "mode": "immediate",
              "transition": {
               "duration": 0,
               "easing": "linear"
              }
             }
            ],
            "label": "04-Jun",
            "method": "animate"
           },
           {
            "args": [
             [
              "11-Jun"
             ],
             {
              "frame": {
               "duration": 0,
               "redraw": true
              },
              "fromcurrent": true,
              "mode": "immediate",
              "transition": {
               "duration": 0,
               "easing": "linear"
              }
             }
            ],
            "label": "11-Jun",
            "method": "animate"
           },
           {
            "args": [
             [
              "18-Jun"
             ],
             {
              "frame": {
               "duration": 0,
               "redraw": true
              },
              "fromcurrent": true,
              "mode": "immediate",
              "transition": {
               "duration": 0,
               "easing": "linear"
              }
             }
            ],
            "label": "18-Jun",
            "method": "animate"
           },
           {
            "args": [
             [
              "24-Jun"
             ],
             {
              "frame": {
               "duration": 0,
               "redraw": true
              },
              "fromcurrent": true,
              "mode": "immediate",
              "transition": {
               "duration": 0,
               "easing": "linear"
              }
             }
            ],
            "label": "24-Jun",
            "method": "animate"
           },
           {
            "args": [
             [
              "02-Jul"
             ],
             {
              "frame": {
               "duration": 0,
               "redraw": true
              },
              "fromcurrent": true,
              "mode": "immediate",
              "transition": {
               "duration": 0,
               "easing": "linear"
              }
             }
            ],
            "label": "02-Jul",
            "method": "animate"
           },
           {
            "args": [
             [
              "23-Jul"
             ],
             {
              "frame": {
               "duration": 0,
               "redraw": true
              },
              "fromcurrent": true,
              "mode": "immediate",
              "transition": {
               "duration": 0,
               "easing": "linear"
              }
             }
            ],
            "label": "23-Jul",
            "method": "animate"
           },
           {
            "args": [
             [
              "30-Jul"
             ],
             {
              "frame": {
               "duration": 0,
               "redraw": true
              },
              "fromcurrent": true,
              "mode": "immediate",
              "transition": {
               "duration": 0,
               "easing": "linear"
              }
             }
            ],
            "label": "30-Jul",
            "method": "animate"
           },
           {
            "args": [
             [
              "04-Aug"
             ],
             {
              "frame": {
               "duration": 0,
               "redraw": true
              },
              "fromcurrent": true,
              "mode": "immediate",
              "transition": {
               "duration": 0,
               "easing": "linear"
              }
             }
            ],
            "label": "04-Aug",
            "method": "animate"
           },
           {
            "args": [
             [
              "12-Aug"
             ],
             {
              "frame": {
               "duration": 0,
               "redraw": true
              },
              "fromcurrent": true,
              "mode": "immediate",
              "transition": {
               "duration": 0,
               "easing": "linear"
              }
             }
            ],
            "label": "12-Aug",
            "method": "animate"
           },
           {
            "args": [
             [
              "17-Aug"
             ],
             {
              "frame": {
               "duration": 0,
               "redraw": true
              },
              "fromcurrent": true,
              "mode": "immediate",
              "transition": {
               "duration": 0,
               "easing": "linear"
              }
             }
            ],
            "label": "17-Aug",
            "method": "animate"
           },
           {
            "args": [
             [
              "19-Aug"
             ],
             {
              "frame": {
               "duration": 0,
               "redraw": true
              },
              "fromcurrent": true,
              "mode": "immediate",
              "transition": {
               "duration": 0,
               "easing": "linear"
              }
             }
            ],
            "label": "19-Aug",
            "method": "animate"
           },
           {
            "args": [
             [
              "20-Aug"
             ],
             {
              "frame": {
               "duration": 0,
               "redraw": true
              },
              "fromcurrent": true,
              "mode": "immediate",
              "transition": {
               "duration": 0,
               "easing": "linear"
              }
             }
            ],
            "label": "20-Aug",
            "method": "animate"
           },
           {
            "args": [
             [
              "03-Sep"
             ],
             {
              "frame": {
               "duration": 0,
               "redraw": true
              },
              "fromcurrent": true,
              "mode": "immediate",
              "transition": {
               "duration": 0,
               "easing": "linear"
              }
             }
            ],
            "label": "03-Sep",
            "method": "animate"
           },
           {
            "args": [
             [
              "24-Sep"
             ],
             {
              "frame": {
               "duration": 0,
               "redraw": true
              },
              "fromcurrent": true,
              "mode": "immediate",
              "transition": {
               "duration": 0,
               "easing": "linear"
              }
             }
            ],
            "label": "24-Sep",
            "method": "animate"
           },
           {
            "args": [
             [
              "01-Oct"
             ],
             {
              "frame": {
               "duration": 0,
               "redraw": true
              },
              "fromcurrent": true,
              "mode": "immediate",
              "transition": {
               "duration": 0,
               "easing": "linear"
              }
             }
            ],
            "label": "01-Oct",
            "method": "animate"
           },
           {
            "args": [
             [
              "15-Oct"
             ],
             {
              "frame": {
               "duration": 0,
               "redraw": true
              },
              "fromcurrent": true,
              "mode": "immediate",
              "transition": {
               "duration": 0,
               "easing": "linear"
              }
             }
            ],
            "label": "15-Oct",
            "method": "animate"
           }
          ],
          "x": 0.1,
          "xanchor": "left",
          "y": 0,
          "yanchor": "top"
         }
        ],
        "template": {
         "data": {
          "bar": [
           {
            "error_x": {
             "color": "#2a3f5f"
            },
            "error_y": {
             "color": "#2a3f5f"
            },
            "marker": {
             "line": {
              "color": "#E5ECF6",
              "width": 0.5
             },
             "pattern": {
              "fillmode": "overlay",
              "size": 10,
              "solidity": 0.2
             }
            },
            "type": "bar"
           }
          ],
          "barpolar": [
           {
            "marker": {
             "line": {
              "color": "#E5ECF6",
              "width": 0.5
             },
             "pattern": {
              "fillmode": "overlay",
              "size": 10,
              "solidity": 0.2
             }
            },
            "type": "barpolar"
           }
          ],
          "carpet": [
           {
            "aaxis": {
             "endlinecolor": "#2a3f5f",
             "gridcolor": "white",
             "linecolor": "white",
             "minorgridcolor": "white",
             "startlinecolor": "#2a3f5f"
            },
            "baxis": {
             "endlinecolor": "#2a3f5f",
             "gridcolor": "white",
             "linecolor": "white",
             "minorgridcolor": "white",
             "startlinecolor": "#2a3f5f"
            },
            "type": "carpet"
           }
          ],
          "choropleth": [
           {
            "colorbar": {
             "outlinewidth": 0,
             "ticks": ""
            },
            "type": "choropleth"
           }
          ],
          "contour": [
           {
            "colorbar": {
             "outlinewidth": 0,
             "ticks": ""
            },
            "colorscale": [
             [
              0,
              "#0d0887"
             ],
             [
              0.1111111111111111,
              "#46039f"
             ],
             [
              0.2222222222222222,
              "#7201a8"
             ],
             [
              0.3333333333333333,
              "#9c179e"
             ],
             [
              0.4444444444444444,
              "#bd3786"
             ],
             [
              0.5555555555555556,
              "#d8576b"
             ],
             [
              0.6666666666666666,
              "#ed7953"
             ],
             [
              0.7777777777777778,
              "#fb9f3a"
             ],
             [
              0.8888888888888888,
              "#fdca26"
             ],
             [
              1,
              "#f0f921"
             ]
            ],
            "type": "contour"
           }
          ],
          "contourcarpet": [
           {
            "colorbar": {
             "outlinewidth": 0,
             "ticks": ""
            },
            "type": "contourcarpet"
           }
          ],
          "heatmap": [
           {
            "colorbar": {
             "outlinewidth": 0,
             "ticks": ""
            },
            "colorscale": [
             [
              0,
              "#0d0887"
             ],
             [
              0.1111111111111111,
              "#46039f"
             ],
             [
              0.2222222222222222,
              "#7201a8"
             ],
             [
              0.3333333333333333,
              "#9c179e"
             ],
             [
              0.4444444444444444,
              "#bd3786"
             ],
             [
              0.5555555555555556,
              "#d8576b"
             ],
             [
              0.6666666666666666,
              "#ed7953"
             ],
             [
              0.7777777777777778,
              "#fb9f3a"
             ],
             [
              0.8888888888888888,
              "#fdca26"
             ],
             [
              1,
              "#f0f921"
             ]
            ],
            "type": "heatmap"
           }
          ],
          "heatmapgl": [
           {
            "colorbar": {
             "outlinewidth": 0,
             "ticks": ""
            },
            "colorscale": [
             [
              0,
              "#0d0887"
             ],
             [
              0.1111111111111111,
              "#46039f"
             ],
             [
              0.2222222222222222,
              "#7201a8"
             ],
             [
              0.3333333333333333,
              "#9c179e"
             ],
             [
              0.4444444444444444,
              "#bd3786"
             ],
             [
              0.5555555555555556,
              "#d8576b"
             ],
             [
              0.6666666666666666,
              "#ed7953"
             ],
             [
              0.7777777777777778,
              "#fb9f3a"
             ],
             [
              0.8888888888888888,
              "#fdca26"
             ],
             [
              1,
              "#f0f921"
             ]
            ],
            "type": "heatmapgl"
           }
          ],
          "histogram": [
           {
            "marker": {
             "pattern": {
              "fillmode": "overlay",
              "size": 10,
              "solidity": 0.2
             }
            },
            "type": "histogram"
           }
          ],
          "histogram2d": [
           {
            "colorbar": {
             "outlinewidth": 0,
             "ticks": ""
            },
            "colorscale": [
             [
              0,
              "#0d0887"
             ],
             [
              0.1111111111111111,
              "#46039f"
             ],
             [
              0.2222222222222222,
              "#7201a8"
             ],
             [
              0.3333333333333333,
              "#9c179e"
             ],
             [
              0.4444444444444444,
              "#bd3786"
             ],
             [
              0.5555555555555556,
              "#d8576b"
             ],
             [
              0.6666666666666666,
              "#ed7953"
             ],
             [
              0.7777777777777778,
              "#fb9f3a"
             ],
             [
              0.8888888888888888,
              "#fdca26"
             ],
             [
              1,
              "#f0f921"
             ]
            ],
            "type": "histogram2d"
           }
          ],
          "histogram2dcontour": [
           {
            "colorbar": {
             "outlinewidth": 0,
             "ticks": ""
            },
            "colorscale": [
             [
              0,
              "#0d0887"
             ],
             [
              0.1111111111111111,
              "#46039f"
             ],
             [
              0.2222222222222222,
              "#7201a8"
             ],
             [
              0.3333333333333333,
              "#9c179e"
             ],
             [
              0.4444444444444444,
              "#bd3786"
             ],
             [
              0.5555555555555556,
              "#d8576b"
             ],
             [
              0.6666666666666666,
              "#ed7953"
             ],
             [
              0.7777777777777778,
              "#fb9f3a"
             ],
             [
              0.8888888888888888,
              "#fdca26"
             ],
             [
              1,
              "#f0f921"
             ]
            ],
            "type": "histogram2dcontour"
           }
          ],
          "mesh3d": [
           {
            "colorbar": {
             "outlinewidth": 0,
             "ticks": ""
            },
            "type": "mesh3d"
           }
          ],
          "parcoords": [
           {
            "line": {
             "colorbar": {
              "outlinewidth": 0,
              "ticks": ""
             }
            },
            "type": "parcoords"
           }
          ],
          "pie": [
           {
            "automargin": true,
            "type": "pie"
           }
          ],
          "scatter": [
           {
            "fillpattern": {
             "fillmode": "overlay",
             "size": 10,
             "solidity": 0.2
            },
            "type": "scatter"
           }
          ],
          "scatter3d": [
           {
            "line": {
             "colorbar": {
              "outlinewidth": 0,
              "ticks": ""
             }
            },
            "marker": {
             "colorbar": {
              "outlinewidth": 0,
              "ticks": ""
             }
            },
            "type": "scatter3d"
           }
          ],
          "scattercarpet": [
           {
            "marker": {
             "colorbar": {
              "outlinewidth": 0,
              "ticks": ""
             }
            },
            "type": "scattercarpet"
           }
          ],
          "scattergeo": [
           {
            "marker": {
             "colorbar": {
              "outlinewidth": 0,
              "ticks": ""
             }
            },
            "type": "scattergeo"
           }
          ],
          "scattergl": [
           {
            "marker": {
             "colorbar": {
              "outlinewidth": 0,
              "ticks": ""
             }
            },
            "type": "scattergl"
           }
          ],
          "scattermapbox": [
           {
            "marker": {
             "colorbar": {
              "outlinewidth": 0,
              "ticks": ""
             }
            },
            "type": "scattermapbox"
           }
          ],
          "scatterpolar": [
           {
            "marker": {
             "colorbar": {
              "outlinewidth": 0,
              "ticks": ""
             }
            },
            "type": "scatterpolar"
           }
          ],
          "scatterpolargl": [
           {
            "marker": {
             "colorbar": {
              "outlinewidth": 0,
              "ticks": ""
             }
            },
            "type": "scatterpolargl"
           }
          ],
          "scatterternary": [
           {
            "marker": {
             "colorbar": {
              "outlinewidth": 0,
              "ticks": ""
             }
            },
            "type": "scatterternary"
           }
          ],
          "surface": [
           {
            "colorbar": {
             "outlinewidth": 0,
             "ticks": ""
            },
            "colorscale": [
             [
              0,
              "#0d0887"
             ],
             [
              0.1111111111111111,
              "#46039f"
             ],
             [
              0.2222222222222222,
              "#7201a8"
             ],
             [
              0.3333333333333333,
              "#9c179e"
             ],
             [
              0.4444444444444444,
              "#bd3786"
             ],
             [
              0.5555555555555556,
              "#d8576b"
             ],
             [
              0.6666666666666666,
              "#ed7953"
             ],
             [
              0.7777777777777778,
              "#fb9f3a"
             ],
             [
              0.8888888888888888,
              "#fdca26"
             ],
             [
              1,
              "#f0f921"
             ]
            ],
            "type": "surface"
           }
          ],
          "table": [
           {
            "cells": {
             "fill": {
              "color": "#EBF0F8"
             },
             "line": {
              "color": "white"
             }
            },
            "header": {
             "fill": {
              "color": "#C8D4E3"
             },
             "line": {
              "color": "white"
             }
            },
            "type": "table"
           }
          ]
         },
         "layout": {
          "annotationdefaults": {
           "arrowcolor": "#2a3f5f",
           "arrowhead": 0,
           "arrowwidth": 1
          },
          "autotypenumbers": "strict",
          "coloraxis": {
           "colorbar": {
            "outlinewidth": 0,
            "ticks": ""
           }
          },
          "colorscale": {
           "diverging": [
            [
             0,
             "#8e0152"
            ],
            [
             0.1,
             "#c51b7d"
            ],
            [
             0.2,
             "#de77ae"
            ],
            [
             0.3,
             "#f1b6da"
            ],
            [
             0.4,
             "#fde0ef"
            ],
            [
             0.5,
             "#f7f7f7"
            ],
            [
             0.6,
             "#e6f5d0"
            ],
            [
             0.7,
             "#b8e186"
            ],
            [
             0.8,
             "#7fbc41"
            ],
            [
             0.9,
             "#4d9221"
            ],
            [
             1,
             "#276419"
            ]
           ],
           "sequential": [
            [
             0,
             "#0d0887"
            ],
            [
             0.1111111111111111,
             "#46039f"
            ],
            [
             0.2222222222222222,
             "#7201a8"
            ],
            [
             0.3333333333333333,
             "#9c179e"
            ],
            [
             0.4444444444444444,
             "#bd3786"
            ],
            [
             0.5555555555555556,
             "#d8576b"
            ],
            [
             0.6666666666666666,
             "#ed7953"
            ],
            [
             0.7777777777777778,
             "#fb9f3a"
            ],
            [
             0.8888888888888888,
             "#fdca26"
            ],
            [
             1,
             "#f0f921"
            ]
           ],
           "sequentialminus": [
            [
             0,
             "#0d0887"
            ],
            [
             0.1111111111111111,
             "#46039f"
            ],
            [
             0.2222222222222222,
             "#7201a8"
            ],
            [
             0.3333333333333333,
             "#9c179e"
            ],
            [
             0.4444444444444444,
             "#bd3786"
            ],
            [
             0.5555555555555556,
             "#d8576b"
            ],
            [
             0.6666666666666666,
             "#ed7953"
            ],
            [
             0.7777777777777778,
             "#fb9f3a"
            ],
            [
             0.8888888888888888,
             "#fdca26"
            ],
            [
             1,
             "#f0f921"
            ]
           ]
          },
          "colorway": [
           "#636efa",
           "#EF553B",
           "#00cc96",
           "#ab63fa",
           "#FFA15A",
           "#19d3f3",
           "#FF6692",
           "#B6E880",
           "#FF97FF",
           "#FECB52"
          ],
          "font": {
           "color": "#2a3f5f"
          },
          "geo": {
           "bgcolor": "white",
           "lakecolor": "white",
           "landcolor": "#E5ECF6",
           "showlakes": true,
           "showland": true,
           "subunitcolor": "white"
          },
          "hoverlabel": {
           "align": "left"
          },
          "hovermode": "closest",
          "mapbox": {
           "style": "light"
          },
          "paper_bgcolor": "white",
          "plot_bgcolor": "#E5ECF6",
          "polar": {
           "angularaxis": {
            "gridcolor": "white",
            "linecolor": "white",
            "ticks": ""
           },
           "bgcolor": "#E5ECF6",
           "radialaxis": {
            "gridcolor": "white",
            "linecolor": "white",
            "ticks": ""
           }
          },
          "scene": {
           "xaxis": {
            "backgroundcolor": "#E5ECF6",
            "gridcolor": "white",
            "gridwidth": 2,
            "linecolor": "white",
            "showbackground": true,
            "ticks": "",
            "zerolinecolor": "white"
           },
           "yaxis": {
            "backgroundcolor": "#E5ECF6",
            "gridcolor": "white",
            "gridwidth": 2,
            "linecolor": "white",
            "showbackground": true,
            "ticks": "",
            "zerolinecolor": "white"
           },
           "zaxis": {
            "backgroundcolor": "#E5ECF6",
            "gridcolor": "white",
            "gridwidth": 2,
            "linecolor": "white",
            "showbackground": true,
            "ticks": "",
            "zerolinecolor": "white"
           }
          },
          "shapedefaults": {
           "line": {
            "color": "#2a3f5f"
           }
          },
          "ternary": {
           "aaxis": {
            "gridcolor": "white",
            "linecolor": "white",
            "ticks": ""
           },
           "baxis": {
            "gridcolor": "white",
            "linecolor": "white",
            "ticks": ""
           },
           "bgcolor": "#E5ECF6",
           "caxis": {
            "gridcolor": "white",
            "linecolor": "white",
            "ticks": ""
           }
          },
          "title": {
           "x": 0.05
          },
          "xaxis": {
           "automargin": true,
           "gridcolor": "white",
           "linecolor": "white",
           "ticks": "",
           "title": {
            "standoff": 15
           },
           "zerolinecolor": "white",
           "zerolinewidth": 2
          },
          "yaxis": {
           "automargin": true,
           "gridcolor": "white",
           "linecolor": "white",
           "ticks": "",
           "title": {
            "standoff": 15
           },
           "zerolinecolor": "white",
           "zerolinewidth": 2
          }
         }
        },
        "title": {
         "text": "Time Lapse of Profit/Loss of every player"
        },
        "updatemenus": [
         {
          "buttons": [
           {
            "args": [
             null,
             {
              "frame": {
               "duration": 600,
               "redraw": true
              },
              "fromcurrent": true,
              "mode": "immediate",
              "transition": {
               "duration": 500,
               "easing": "linear"
              }
             }
            ],
            "label": "&#9654;",
            "method": "animate"
           },
           {
            "args": [
             [
              null
             ],
             {
              "frame": {
               "duration": 0,
               "redraw": true
              },
              "fromcurrent": true,
              "mode": "immediate",
              "transition": {
               "duration": 0,
               "easing": "linear"
              }
             }
            ],
            "label": "&#9724;",
            "method": "animate"
           }
          ],
          "direction": "left",
          "pad": {
           "r": 10,
           "t": 70
          },
          "showactive": false,
          "type": "buttons",
          "x": 0.1,
          "xanchor": "right",
          "y": 0,
          "yanchor": "top"
         }
        ],
        "width": 1800,
        "xaxis": {
         "anchor": "y",
         "domain": [
          0,
          1
         ],
         "title": {
          "text": "Date"
         }
        },
        "yaxis": {
         "anchor": "x",
         "domain": [
          0,
          1
         ],
         "range": [
          -500,
          200
         ],
         "title": {
          "text": "Net Profit/Loss"
         }
        }
       }
      }
     },
     "metadata": {},
     "output_type": "display_data"
    }
   ],
   "source": [
    "fig = px.bar(dftime_melt,  \n",
    "            x='Player', y = \"Net Profit/Loss\", animation_frame=\"Date\", range_y=(-500,200),hover_data=['Net Profit/Loss'],color='Net Profit/Loss', width=1800, height=800, range_color=(-500,200))\n",
    "fig.update_layout(\n",
    "    title=\"Time Lapse of Profit/Loss of every player\",\n",
    "    xaxis_title=\"Date\",\n",
    "    yaxis_title=\"Net Profit/Loss\")\n",
    "\n",
    "fig.update_traces(textfont_size=12, textangle=0, textposition=\"outside\",overwrite=True)  \n",
    "fig.layout.updatemenus[0].buttons[0].args[1][\"frame\"][\"duration\"] = 600\n",
    "fig.show()"
   ]
  },
  {
   "cell_type": "markdown",
   "metadata": {},
   "source": [
    "## Player Analysis"
   ]
  },
  {
   "cell_type": "code",
   "execution_count": 49,
   "metadata": {},
   "outputs": [],
   "source": [
    "person = 'Panos'"
   ]
  },
  {
   "cell_type": "markdown",
   "metadata": {},
   "source": [
    "### Histogtam of performance"
   ]
  },
  {
   "cell_type": "code",
   "execution_count": 50,
   "metadata": {},
   "outputs": [
    {
     "data": {
      "image/png": "[encoded data removed]",
      "text/plain": [
       "<Figure size 1200x600 with 1 Axes>"
      ]
     },
     "metadata": {},
     "output_type": "display_data"
    }
   ],
   "source": [
    "plt.figure(figsize=(12,6))\n",
    "sns.regplot(x=np.arange(1,len(dftime[person])+1,1),y=person, data=dftime, color='r', scatter_kws={'color':'black'}, line_kws={'color':'red'})\n",
    "plt.plot(np.arange(1,len(dftime[person])+1,1),dftime[person],color='black')\n",
    "plt.legend([person+' (actual)','Regression best fit'])\n",
    "plt.ylabel('Net Profit/Loss')\n",
    "plt.xlabel('Session Number')\n",
    "plt.xticks(np.arange(0,len(dftime[person])+1))\n",
    "plt.grid()\n",
    "plt.show()"
   ]
  },
  {
   "cell_type": "code",
   "execution_count": 51,
   "metadata": {},
   "outputs": [
    {
     "data": {
      "image/png": "[encoded data removed]",
      "text/plain": [
       "<Figure size 1200x500 with 1 Axes>"
      ]
     },
     "metadata": {},
     "output_type": "display_data"
    }
   ],
   "source": [
    "fig, ax = plt.subplots(figsize=(12,5))\n",
    "ax.plot(pd.to_datetime(dftime['Date'] + f\"-{2023}\", format='%d-%b-%Y'), dftime[person], label=person)\n",
    "ax.set_ylabel('Net Profit/Loss')\n",
    "ax.set_xlabel('Month (2023)')\n",
    "\n",
    "#plt.xticks(rotation=45)  # Rotate x-axis labels for readability\n",
    "ax.xaxis.set_major_formatter(plt.matplotlib.dates.DateFormatter(\"%b\"))\n",
    "#ax.set_xlim(datetime.date(2023, 1 ,1), datetime.date(2023, 10 ,31))\n",
    "plt.legend()\n",
    "\n",
    "plt.grid()\n",
    "plt.show()"
   ]
  },
  {
   "cell_type": "markdown",
   "metadata": {},
   "source": [
    "### Personal Form Calculator"
   ]
  },
  {
   "cell_type": "code",
   "execution_count": 52,
   "metadata": {},
   "outputs": [],
   "source": [
    "dftime5 = dftime2[person].dropna()\n",
    "dftime5.drop(index='TABLES' , inplace= True) \n",
    "dftime5 = pd.Series([sum(dftime5[i:i+3]) for i in range(0, len(dftime5)-2, 1)]) # sum 3 in a row together"
   ]
  },
  {
   "cell_type": "code",
   "execution_count": 53,
   "metadata": {},
   "outputs": [],
   "source": [
    "x = np.array(dftime5).reshape(-1,1) #reshape to fit transform\n",
    "filtered_data = StandardScaler().fit_transform(x) #normalise first \n",
    "filtered_data = MinMaxScaler().fit_transform(filtered_data)*10 #convert normalised data into min, max\n",
    "filtered_data = [np.round(datum * 2) / 2 for datum in filtered_data]"
   ]
  },
  {
   "cell_type": "code",
   "execution_count": 54,
   "metadata": {},
   "outputs": [
    {
     "data": {
      "text/plain": [
       "'fig = go.Figure(go.Indicator(\\n    mode = \"gauge+number+delta\",\\n    value = float(filtered_data[-1]),\\n    domain = {\\'x\\': [0, 1], \\'y\\': [0, 1]},\\n    title = {\\'text\\': \"{} Personal Form\".format(person), \\'font\\': {\\'size\\': 24}},\\n    delta = {\\'reference\\': int(filtered_data[-2]), \\'increasing\\': {\\'color\\': \"RebeccaPurple\"}},\\n    gauge = {\\n        \\'axis\\': {\\'range\\': [None, 10], \\'tickwidth\\': 1, \\'tickcolor\\': \"darkblue\"},\\n        \\'bar\\': {\\'color\\': \"darkblue\"},\\n        \\'bgcolor\\': \"white\",\\n        \\'borderwidth\\': 2,\\n        \\'bordercolor\\': \"gray\",\\n        \\'steps\\': [\\n            {\\'range\\': [0, 5], \\'color\\': \\'red\\'},\\n            {\\'range\\': [5, 10], \\'color\\': \\'cyan\\'}],\\n        }))\\n\\nfig.update_layout(paper_bgcolor = \"lavender\", font = {\\'color\\': \"darkblue\", \\'family\\': \"Arial\"})\\n\\nfig.show()'"
      ]
     },
     "execution_count": 54,
     "metadata": {},
     "output_type": "execute_result"
    }
   ],
   "source": [
    "\"\"\"fig = go.Figure(go.Indicator(\n",
    "    mode = \"gauge+number+delta\",\n",
    "    value = float(filtered_data[-1]),\n",
    "    domain = {'x': [0, 1], 'y': [0, 1]},\n",
    "    title = {'text': \"{} Personal Form\".format(person), 'font': {'size': 24}},\n",
    "    delta = {'reference': int(filtered_data[-2]), 'increasing': {'color': \"RebeccaPurple\"}},\n",
    "    gauge = {\n",
    "        'axis': {'range': [None, 10], 'tickwidth': 1, 'tickcolor': \"darkblue\"},\n",
    "        'bar': {'color': \"darkblue\"},\n",
    "        'bgcolor': \"white\",\n",
    "        'borderwidth': 2,\n",
    "        'bordercolor': \"gray\",\n",
    "        'steps': [\n",
    "            {'range': [0, 5], 'color': 'red'},\n",
    "            {'range': [5, 10], 'color': 'cyan'}],\n",
    "        }))\n",
    "\n",
    "fig.update_layout(paper_bgcolor = \"lavender\", font = {'color': \"darkblue\", 'family': \"Arial\"})\n",
    "\n",
    "fig.show()\"\"\""
   ]
  },
  {
   "cell_type": "markdown",
   "metadata": {},
   "source": [
    "### Global Form Calculator"
   ]
  },
  {
   "cell_type": "code",
   "execution_count": 55,
   "metadata": {},
   "outputs": [],
   "source": [
    "dftime3 = dftime3.iloc[:,0:6] #pick only the first 6 columns\n",
    "if 'TABLES' in dftime3.index:  \n",
    "    dftime3.drop(index='TABLES' , inplace= True) #drop row with the number of tables\n",
    "person_column = dftime3.pop(person)\n",
    "dftime3[person] = person_column\n",
    "global_list = []\n",
    "for column in dftime3:\n",
    "    dftime4 = dftime3[column].dropna() #drop all NaN values\n",
    "    global_list.extend(pd.Series([sum(dftime4[i:i+3]) for i in range(0, len(dftime4)-2, 1)])) # sum 3 in a row together"
   ]
  },
  {
   "cell_type": "code",
   "execution_count": 56,
   "metadata": {},
   "outputs": [],
   "source": [
    "filtered_data2 = StandardScaler().fit_transform(np.array(global_list).reshape(-1, 1)) #normalise first \n",
    "filtered_data2 = MinMaxScaler().fit_transform(filtered_data2)*10 #convert normalised data into min, max\n",
    "filtered_data2 = [np.round(datum * 2) / 2 for datum in filtered_data2]"
   ]
  },
  {
   "cell_type": "code",
   "execution_count": 57,
   "metadata": {},
   "outputs": [
    {
     "data": {
      "text/plain": [
       "'fig = go.Figure(go.Indicator(\\n    mode = \"gauge+number+delta\",\\n    value = float(filtered_data[-1]),\\n    domain = {\\'x\\': [0, 1], \\'y\\': [0, 1]},\\n    title = {\\'text\\': \"{} Global Form\".format(person), \\'font\\': {\\'size\\': 24}},\\n    delta = {\\'reference\\': int(filtered_data[-2]), \\'increasing\\': {\\'color\\': \"RebeccaPurple\"}},\\n    gauge = {\\n        \\'axis\\': {\\'range\\': [None, 10], \\'tickwidth\\': 1, \\'tickcolor\\': \"darkblue\"},\\n        \\'bar\\': {\\'color\\': \"darkblue\"},\\n        \\'bgcolor\\': \"white\",\\n        \\'borderwidth\\': 2,\\n        \\'bordercolor\\': \"gray\",\\n        \\'steps\\': [\\n            {\\'range\\': [0, 5], \\'color\\': \\'red\\'},\\n            {\\'range\\': [5, 10], \\'color\\': \\'cyan\\'}],\\n        }))\\n\\nfig.update_layout(paper_bgcolor = \"lavender\", font = {\\'color\\': \"darkblue\", \\'family\\': \"Arial\"})\\n\\nfig.show()'"
      ]
     },
     "execution_count": 57,
     "metadata": {},
     "output_type": "execute_result"
    }
   ],
   "source": [
    "\"\"\"fig = go.Figure(go.Indicator(\n",
    "    mode = \"gauge+number+delta\",\n",
    "    value = float(filtered_data[-1]),\n",
    "    domain = {'x': [0, 1], 'y': [0, 1]},\n",
    "    title = {'text': \"{} Global Form\".format(person), 'font': {'size': 24}},\n",
    "    delta = {'reference': int(filtered_data[-2]), 'increasing': {'color': \"RebeccaPurple\"}},\n",
    "    gauge = {\n",
    "        'axis': {'range': [None, 10], 'tickwidth': 1, 'tickcolor': \"darkblue\"},\n",
    "        'bar': {'color': \"darkblue\"},\n",
    "        'bgcolor': \"white\",\n",
    "        'borderwidth': 2,\n",
    "        'bordercolor': \"gray\",\n",
    "        'steps': [\n",
    "            {'range': [0, 5], 'color': 'red'},\n",
    "            {'range': [5, 10], 'color': 'cyan'}],\n",
    "        }))\n",
    "\n",
    "fig.update_layout(paper_bgcolor = \"lavender\", font = {'color': \"darkblue\", 'family': \"Arial\"})\n",
    "\n",
    "fig.show()\"\"\""
   ]
  },
  {
   "cell_type": "markdown",
   "metadata": {},
   "source": [
    "### Personal and Global Form Gauge charts"
   ]
  },
  {
   "cell_type": "code",
   "execution_count": 58,
   "metadata": {},
   "outputs": [
    {
     "data": {
      "application/vnd.plotly.v1+json": {
       "config": {
        "plotlyServerURL": "https://plot.ly"
       },
       "data": [
        {
         "delta": {
          "increasing": {
           "color": "RebeccaPurple"
          },
          "reference": 4
         },
         "domain": {
          "x": [
           0,
           0.45
          ],
          "y": [
           0,
           1
          ]
         },
         "gauge": {
          "axis": {
           "range": [
            null,
            10
           ],
           "tickcolor": "darkblue",
           "tickwidth": 1
          },
          "bar": {
           "color": "darkblue"
          },
          "bgcolor": "white",
          "bordercolor": "gray",
          "borderwidth": 2,
          "steps": [
           {
            "color": "red",
            "range": [
             0,
             5
            ]
           },
           {
            "color": "cyan",
            "range": [
             5,
             10
            ]
           }
          ]
         },
         "mode": "gauge+number+delta",
         "title": {
          "font": {
           "size": 24
          },
          "text": "Panos Personal Form"
         },
         "type": "indicator",
         "value": 8.5
        },
        {
         "delta": {
          "increasing": {
           "color": "RebeccaPurple"
          },
          "reference": 3
         },
         "domain": {
          "x": [
           0.55,
           1
          ],
          "y": [
           0,
           1
          ]
         },
         "gauge": {
          "axis": {
           "range": [
            null,
            10
           ],
           "tickcolor": "darkblue",
           "tickwidth": 1
          },
          "bar": {
           "color": "darkblue"
          },
          "bgcolor": "white",
          "bordercolor": "gray",
          "borderwidth": 2,
          "steps": [
           {
            "color": "red",
            "range": [
             0,
             5
            ]
           },
           {
            "color": "cyan",
            "range": [
             5,
             10
            ]
           }
          ]
         },
         "mode": "gauge+number+delta",
         "title": {
          "font": {
           "size": 24
          },
          "text": "Panos Global Form"
         },
         "type": "indicator",
         "value": 6.5
        }
       ],
       "layout": {
        "template": {
         "data": {
          "bar": [
           {
            "error_x": {
             "color": "#2a3f5f"
            },
            "error_y": {
             "color": "#2a3f5f"
            },
            "marker": {
             "line": {
              "color": "#E5ECF6",
              "width": 0.5
             },
             "pattern": {
              "fillmode": "overlay",
              "size": 10,
              "solidity": 0.2
             }
            },
            "type": "bar"
           }
          ],
          "barpolar": [
           {
            "marker": {
             "line": {
              "color": "#E5ECF6",
              "width": 0.5
             },
             "pattern": {
              "fillmode": "overlay",
              "size": 10,
              "solidity": 0.2
             }
            },
            "type": "barpolar"
           }
          ],
          "carpet": [
           {
            "aaxis": {
             "endlinecolor": "#2a3f5f",
             "gridcolor": "white",
             "linecolor": "white",
             "minorgridcolor": "white",
             "startlinecolor": "#2a3f5f"
            },
            "baxis": {
             "endlinecolor": "#2a3f5f",
             "gridcolor": "white",
             "linecolor": "white",
             "minorgridcolor": "white",
             "startlinecolor": "#2a3f5f"
            },
            "type": "carpet"
           }
          ],
          "choropleth": [
           {
            "colorbar": {
             "outlinewidth": 0,
             "ticks": ""
            },
            "type": "choropleth"
           }
          ],
          "contour": [
           {
            "colorbar": {
             "outlinewidth": 0,
             "ticks": ""
            },
            "colorscale": [
             [
              0,
              "#0d0887"
             ],
             [
              0.1111111111111111,
              "#46039f"
             ],
             [
              0.2222222222222222,
              "#7201a8"
             ],
             [
              0.3333333333333333,
              "#9c179e"
             ],
             [
              0.4444444444444444,
              "#bd3786"
             ],
             [
              0.5555555555555556,
              "#d8576b"
             ],
             [
              0.6666666666666666,
              "#ed7953"
             ],
             [
              0.7777777777777778,
              "#fb9f3a"
             ],
             [
              0.8888888888888888,
              "#fdca26"
             ],
             [
              1,
              "#f0f921"
             ]
            ],
            "type": "contour"
           }
          ],
          "contourcarpet": [
           {
            "colorbar": {
             "outlinewidth": 0,
             "ticks": ""
            },
            "type": "contourcarpet"
           }
          ],
          "heatmap": [
           {
            "colorbar": {
             "outlinewidth": 0,
             "ticks": ""
            },
            "colorscale": [
             [
              0,
              "#0d0887"
             ],
             [
              0.1111111111111111,
              "#46039f"
             ],
             [
              0.2222222222222222,
              "#7201a8"
             ],
             [
              0.3333333333333333,
              "#9c179e"
             ],
             [
              0.4444444444444444,
              "#bd3786"
             ],
             [
              0.5555555555555556,
              "#d8576b"
             ],
             [
              0.6666666666666666,
              "#ed7953"
             ],
             [
              0.7777777777777778,
              "#fb9f3a"
             ],
             [
              0.8888888888888888,
              "#fdca26"
             ],
             [
              1,
              "#f0f921"
             ]
            ],
            "type": "heatmap"
           }
          ],
          "heatmapgl": [
           {
            "colorbar": {
             "outlinewidth": 0,
             "ticks": ""
            },
            "colorscale": [
             [
              0,
              "#0d0887"
             ],
             [
              0.1111111111111111,
              "#46039f"
             ],
             [
              0.2222222222222222,
              "#7201a8"
             ],
             [
              0.3333333333333333,
              "#9c179e"
             ],
             [
              0.4444444444444444,
              "#bd3786"
             ],
             [
              0.5555555555555556,
              "#d8576b"
             ],
             [
              0.6666666666666666,
              "#ed7953"
             ],
             [
              0.7777777777777778,
              "#fb9f3a"
             ],
             [
              0.8888888888888888,
              "#fdca26"
             ],
             [
              1,
              "#f0f921"
             ]
            ],
            "type": "heatmapgl"
           }
          ],
          "histogram": [
           {
            "marker": {
             "pattern": {
              "fillmode": "overlay",
              "size": 10,
              "solidity": 0.2
             }
            },
            "type": "histogram"
           }
          ],
          "histogram2d": [
           {
            "colorbar": {
             "outlinewidth": 0,
             "ticks": ""
            },
            "colorscale": [
             [
              0,
              "#0d0887"
             ],
             [
              0.1111111111111111,
              "#46039f"
             ],
             [
              0.2222222222222222,
              "#7201a8"
             ],
             [
              0.3333333333333333,
              "#9c179e"
             ],
             [
              0.4444444444444444,
              "#bd3786"
             ],
             [
              0.5555555555555556,
              "#d8576b"
             ],
             [
              0.6666666666666666,
              "#ed7953"
             ],
             [
              0.7777777777777778,
              "#fb9f3a"
             ],
             [
              0.8888888888888888,
              "#fdca26"
             ],
             [
              1,
              "#f0f921"
             ]
            ],
            "type": "histogram2d"
           }
          ],
          "histogram2dcontour": [
           {
            "colorbar": {
             "outlinewidth": 0,
             "ticks": ""
            },
            "colorscale": [
             [
              0,
              "#0d0887"
             ],
             [
              0.1111111111111111,
              "#46039f"
             ],
             [
              0.2222222222222222,
              "#7201a8"
             ],
             [
              0.3333333333333333,
              "#9c179e"
             ],
             [
              0.4444444444444444,
              "#bd3786"
             ],
             [
              0.5555555555555556,
              "#d8576b"
             ],
             [
              0.6666666666666666,
              "#ed7953"
             ],
             [
              0.7777777777777778,
              "#fb9f3a"
             ],
             [
              0.8888888888888888,
              "#fdca26"
             ],
             [
              1,
              "#f0f921"
             ]
            ],
            "type": "histogram2dcontour"
           }
          ],
          "mesh3d": [
           {
            "colorbar": {
             "outlinewidth": 0,
             "ticks": ""
            },
            "type": "mesh3d"
           }
          ],
          "parcoords": [
           {
            "line": {
             "colorbar": {
              "outlinewidth": 0,
              "ticks": ""
             }
            },
            "type": "parcoords"
           }
          ],
          "pie": [
           {
            "automargin": true,
            "type": "pie"
           }
          ],
          "scatter": [
           {
            "fillpattern": {
             "fillmode": "overlay",
             "size": 10,
             "solidity": 0.2
            },
            "type": "scatter"
           }
          ],
          "scatter3d": [
           {
            "line": {
             "colorbar": {
              "outlinewidth": 0,
              "ticks": ""
             }
            },
            "marker": {
             "colorbar": {
              "outlinewidth": 0,
              "ticks": ""
             }
            },
            "type": "scatter3d"
           }
          ],
          "scattercarpet": [
           {
            "marker": {
             "colorbar": {
              "outlinewidth": 0,
              "ticks": ""
             }
            },
            "type": "scattercarpet"
           }
          ],
          "scattergeo": [
           {
            "marker": {
             "colorbar": {
              "outlinewidth": 0,
              "ticks": ""
             }
            },
            "type": "scattergeo"
           }
          ],
          "scattergl": [
           {
            "marker": {
             "colorbar": {
              "outlinewidth": 0,
              "ticks": ""
             }
            },
            "type": "scattergl"
           }
          ],
          "scattermapbox": [
           {
            "marker": {
             "colorbar": {
              "outlinewidth": 0,
              "ticks": ""
             }
            },
            "type": "scattermapbox"
           }
          ],
          "scatterpolar": [
           {
            "marker": {
             "colorbar": {
              "outlinewidth": 0,
              "ticks": ""
             }
            },
            "type": "scatterpolar"
           }
          ],
          "scatterpolargl": [
           {
            "marker": {
             "colorbar": {
              "outlinewidth": 0,
              "ticks": ""
             }
            },
            "type": "scatterpolargl"
           }
          ],
          "scatterternary": [
           {
            "marker": {
             "colorbar": {
              "outlinewidth": 0,
              "ticks": ""
             }
            },
            "type": "scatterternary"
           }
          ],
          "surface": [
           {
            "colorbar": {
             "outlinewidth": 0,
             "ticks": ""
            },
            "colorscale": [
             [
              0,
              "#0d0887"
             ],
             [
              0.1111111111111111,
              "#46039f"
             ],
             [
              0.2222222222222222,
              "#7201a8"
             ],
             [
              0.3333333333333333,
              "#9c179e"
             ],
             [
              0.4444444444444444,
              "#bd3786"
             ],
             [
              0.5555555555555556,
              "#d8576b"
             ],
             [
              0.6666666666666666,
              "#ed7953"
             ],
             [
              0.7777777777777778,
              "#fb9f3a"
             ],
             [
              0.8888888888888888,
              "#fdca26"
             ],
             [
              1,
              "#f0f921"
             ]
            ],
            "type": "surface"
           }
          ],
          "table": [
           {
            "cells": {
             "fill": {
              "color": "#EBF0F8"
             },
             "line": {
              "color": "white"
             }
            },
            "header": {
             "fill": {
              "color": "#C8D4E3"
             },
             "line": {
              "color": "white"
             }
            },
            "type": "table"
           }
          ]
         },
         "layout": {
          "annotationdefaults": {
           "arrowcolor": "#2a3f5f",
           "arrowhead": 0,
           "arrowwidth": 1
          },
          "autotypenumbers": "strict",
          "coloraxis": {
           "colorbar": {
            "outlinewidth": 0,
            "ticks": ""
           }
          },
          "colorscale": {
           "diverging": [
            [
             0,
             "#8e0152"
            ],
            [
             0.1,
             "#c51b7d"
            ],
            [
             0.2,
             "#de77ae"
            ],
            [
             0.3,
             "#f1b6da"
            ],
            [
             0.4,
             "#fde0ef"
            ],
            [
             0.5,
             "#f7f7f7"
            ],
            [
             0.6,
             "#e6f5d0"
            ],
            [
             0.7,
             "#b8e186"
            ],
            [
             0.8,
             "#7fbc41"
            ],
            [
             0.9,
             "#4d9221"
            ],
            [
             1,
             "#276419"
            ]
           ],
           "sequential": [
            [
             0,
             "#0d0887"
            ],
            [
             0.1111111111111111,
             "#46039f"
            ],
            [
             0.2222222222222222,
             "#7201a8"
            ],
            [
             0.3333333333333333,
             "#9c179e"
            ],
            [
             0.4444444444444444,
             "#bd3786"
            ],
            [
             0.5555555555555556,
             "#d8576b"
            ],
            [
             0.6666666666666666,
             "#ed7953"
            ],
            [
             0.7777777777777778,
             "#fb9f3a"
            ],
            [
             0.8888888888888888,
             "#fdca26"
            ],
            [
             1,
             "#f0f921"
            ]
           ],
           "sequentialminus": [
            [
             0,
             "#0d0887"
            ],
            [
             0.1111111111111111,
             "#46039f"
            ],
            [
             0.2222222222222222,
             "#7201a8"
            ],
            [
             0.3333333333333333,
             "#9c179e"
            ],
            [
             0.4444444444444444,
             "#bd3786"
            ],
            [
             0.5555555555555556,
             "#d8576b"
            ],
            [
             0.6666666666666666,
             "#ed7953"
            ],
            [
             0.7777777777777778,
             "#fb9f3a"
            ],
            [
             0.8888888888888888,
             "#fdca26"
            ],
            [
             1,
             "#f0f921"
            ]
           ]
          },
          "colorway": [
           "#636efa",
           "#EF553B",
           "#00cc96",
           "#ab63fa",
           "#FFA15A",
           "#19d3f3",
           "#FF6692",
           "#B6E880",
           "#FF97FF",
           "#FECB52"
          ],
          "font": {
           "color": "#2a3f5f"
          },
          "geo": {
           "bgcolor": "white",
           "lakecolor": "white",
           "landcolor": "#E5ECF6",
           "showlakes": true,
           "showland": true,
           "subunitcolor": "white"
          },
          "hoverlabel": {
           "align": "left"
          },
          "hovermode": "closest",
          "mapbox": {
           "style": "light"
          },
          "paper_bgcolor": "white",
          "plot_bgcolor": "#E5ECF6",
          "polar": {
           "angularaxis": {
            "gridcolor": "white",
            "linecolor": "white",
            "ticks": ""
           },
           "bgcolor": "#E5ECF6",
           "radialaxis": {
            "gridcolor": "white",
            "linecolor": "white",
            "ticks": ""
           }
          },
          "scene": {
           "xaxis": {
            "backgroundcolor": "#E5ECF6",
            "gridcolor": "white",
            "gridwidth": 2,
            "linecolor": "white",
            "showbackground": true,
            "ticks": "",
            "zerolinecolor": "white"
           },
           "yaxis": {
            "backgroundcolor": "#E5ECF6",
            "gridcolor": "white",
            "gridwidth": 2,
            "linecolor": "white",
            "showbackground": true,
            "ticks": "",
            "zerolinecolor": "white"
           },
           "zaxis": {
            "backgroundcolor": "#E5ECF6",
            "gridcolor": "white",
            "gridwidth": 2,
            "linecolor": "white",
            "showbackground": true,
            "ticks": "",
            "zerolinecolor": "white"
           }
          },
          "shapedefaults": {
           "line": {
            "color": "#2a3f5f"
           }
          },
          "ternary": {
           "aaxis": {
            "gridcolor": "white",
            "linecolor": "white",
            "ticks": ""
           },
           "baxis": {
            "gridcolor": "white",
            "linecolor": "white",
            "ticks": ""
           },
           "bgcolor": "#E5ECF6",
           "caxis": {
            "gridcolor": "white",
            "linecolor": "white",
            "ticks": ""
           }
          },
          "title": {
           "x": 0.05
          },
          "xaxis": {
           "automargin": true,
           "gridcolor": "white",
           "linecolor": "white",
           "ticks": "",
           "title": {
            "standoff": 15
           },
           "zerolinecolor": "white",
           "zerolinewidth": 2
          },
          "yaxis": {
           "automargin": true,
           "gridcolor": "white",
           "linecolor": "white",
           "ticks": "",
           "title": {
            "standoff": 15
           },
           "zerolinecolor": "white",
           "zerolinewidth": 2
          }
         }
        }
       }
      }
     },
     "metadata": {},
     "output_type": "display_data"
    }
   ],
   "source": [
    "# Create a subplot grid with 1 row and 2 columns\n",
    "fig = make_subplots(rows=1, cols=2)\n",
    "\n",
    "# Define data for the first gauge chart\n",
    "trace1 = (go.Indicator(\n",
    "    mode = \"gauge+number+delta\",\n",
    "    value = float(filtered_data[-1]),\n",
    "    domain = {'x': [0, 1], 'y': [0, 1]},\n",
    "    title = {'text': \"{} Personal Form\".format(person), 'font': {'size': 24}},\n",
    "    delta = {'reference': int(filtered_data[-2]), 'increasing': {'color': \"RebeccaPurple\"}},\n",
    "    gauge = {\n",
    "        'axis': {'range': [None, 10], 'tickwidth': 1, 'tickcolor': \"darkblue\"},\n",
    "        'bar': {'color': \"darkblue\"},\n",
    "        'bgcolor': \"white\",\n",
    "        'borderwidth': 2,\n",
    "        'bordercolor': \"gray\",\n",
    "        'steps': [\n",
    "            {'range': [0, 5], 'color': 'red'},\n",
    "            {'range': [5, 10], 'color': 'cyan'}],\n",
    "        }))\n",
    "\n",
    "# Define data for the second gauge chart\n",
    "trace2 = (go.Indicator(\n",
    "    mode = \"gauge+number+delta\",\n",
    "    value = float(filtered_data2[-1]),\n",
    "    domain = {'x': [0, 1], 'y': [0, 1]},\n",
    "    title = {'text': \"{} Global Form\".format(person), 'font': {'size': 24}},\n",
    "    delta = {'reference': int(filtered_data2[-2]), 'increasing': {'color': \"RebeccaPurple\"}},\n",
    "    gauge = {\n",
    "        'axis': {'range': [None, 10], 'tickwidth': 1, 'tickcolor': \"darkblue\"},\n",
    "        'bar': {'color': \"darkblue\"},\n",
    "        'bgcolor': \"white\",\n",
    "        'borderwidth': 2,\n",
    "        'bordercolor': \"gray\",\n",
    "        'steps': [\n",
    "            {'range': [0, 5], 'color': 'red'},\n",
    "            {'range': [5, 10], 'color': 'cyan'}],\n",
    "        }))\n",
    "\n",
    "fig.update_layout(paper_bgcolor = \"lavender\", font = {'color': \"darkblue\", 'family': \"Arial\"})\n",
    "\n",
    "fig = make_subplots(\n",
    "    rows=1,\n",
    "    cols=2,\n",
    "    specs=[[{'type' : 'indicator'}, {'type' : 'indicator'}]],\n",
    "    )\n",
    "\n",
    "fig.append_trace(trace1, row=1, col=1)\n",
    "fig.append_trace(trace2, row=1, col=2)\n",
    "\n",
    "fig.show()"
   ]
  },
  {
   "cell_type": "markdown",
   "metadata": {},
   "source": [
    "# Dash Board"
   ]
  },
  {
   "cell_type": "code",
   "execution_count": 59,
   "metadata": {},
   "outputs": [
    {
     "data": {
      "text/plain": [
       "\"# Initialize the app\\napp = Dash(__name__)\\napp.config.suppress_callback_exceptions = True\\n# App layout\\napp.layout = html.Div([\\n    html.Div(children='My First App with Data'),\\n    #dash_table.DataTable(data=df.to_dict('records'), page_size=10)\\n])\\n\\n# Run the app\\nif __name__ == '__main__':\\n    app.run_server(port=6060, threaded=False)\""
      ]
     },
     "execution_count": 59,
     "metadata": {},
     "output_type": "execute_result"
    }
   ],
   "source": [
    "\"\"\"# Initialize the app\n",
    "app = Dash(__name__)\n",
    "app.config.suppress_callback_exceptions = True\n",
    "# App layout\n",
    "app.layout = html.Div([\n",
    "    html.Div(children='My First App with Data'),\n",
    "    #dash_table.DataTable(data=df.to_dict('records'), page_size=10)\n",
    "])\n",
    "\n",
    "# Run the app\n",
    "if __name__ == '__main__':\n",
    "    app.run_server(port=6060, threaded=False)\"\"\""
   ]
  }
 ],
 "metadata": {
  "kernelspec": {
   "display_name": "Python 3",
   "language": "python",
   "name": "python3"
  },
  "language_info": {
   "codemirror_mode": {
    "name": "ipython",
    "version": 3
   },
   "file_extension": ".py",
   "mimetype": "text/x-python",
   "name": "python",
   "nbconvert_exporter": "python",
   "pygments_lexer": "ipython3",
   "version": "3.10.11"
  }
 },
 "nbformat": 4,
 "nbformat_minor": 2
}
