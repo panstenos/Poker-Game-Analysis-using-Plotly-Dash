{
 "cells": [
  {
   "cell_type": "markdown",
   "metadata": {},
   "source": [
    "## Import Libraries"
   ]
  },
  {
   "cell_type": "code",
   "execution_count": 1,
   "metadata": {},
   "outputs": [
    {
     "name": "stderr",
     "output_type": "stream",
     "text": [
      "C:\\Users\\PanSt\\AppData\\Local\\Temp\\ipykernel_19564\\2105414073.py:5: UserWarning: \n",
      "The dash_html_components package is deprecated. Please replace\n",
      "`import dash_html_components as html` with `from dash import html`\n",
      "  import dash_html_components as html\n",
      "C:\\Users\\PanSt\\AppData\\Local\\Temp\\ipykernel_19564\\2105414073.py:6: UserWarning: \n",
      "The dash_core_components package is deprecated. Please replace\n",
      "`import dash_core_components as dcc` with `from dash import dcc`\n",
      "  import dash_core_components as dcc\n"
     ]
    }
   ],
   "source": [
    "import pandas as pd\n",
    "\n",
    "import dash\n",
    "from dash import Dash, dash_table\n",
    "import dash_html_components as html\n",
    "import dash_core_components as dcc\n",
    "from dash.dependencies import Output, Input, State\n",
    "\n",
    "import plotly.graph_objects as go\n",
    "from plotly.subplots import make_subplots\n",
    "import plotly.express as px\n",
    "import matplotlib.pyplot as plt\n",
    "import seaborn as sns\n",
    "%matplotlib inline\n",
    "\n",
    "import numpy as np\n",
    "from datetime import date, timedelta\n",
    "import datetime\n",
    "\n",
    "from sklearn.preprocessing import StandardScaler, MinMaxScaler, PolynomialFeatures\n",
    "from sklearn.linear_model import LinearRegression\n",
    "from sklearn.pipeline import Pipeline"
   ]
  },
  {
   "cell_type": "markdown",
   "metadata": {},
   "source": [
    "## Preprocessing"
   ]
  },
  {
   "cell_type": "code",
   "execution_count": 2,
   "metadata": {},
   "outputs": [
    {
     "name": "stderr",
     "output_type": "stream",
     "text": [
      "c:\\Users\\PanSt\\anaconda3\\lib\\site-packages\\openpyxl\\worksheet\\_read_only.py:79: UserWarning: Unknown extension is not supported and will be removed\n",
      "  for idx, row in parser.parse():\n",
      "c:\\Users\\PanSt\\anaconda3\\lib\\site-packages\\openpyxl\\worksheet\\_read_only.py:79: UserWarning: Conditional Formatting extension is not supported and will be removed\n",
      "  for idx, row in parser.parse():\n"
     ]
    }
   ],
   "source": [
    "df = pd.read_excel(\"Poker League 2023.xlsx\")\n",
    "df.set_index('Unnamed: 0', inplace=True)\n",
    "df.rename_axis(None, inplace=True) #remove index header\n",
    "\n",
    "dftime2 = df.iloc[:,2:].T.copy() # to be used for personal form calculation\n",
    "dftime3 = df.iloc[:,2:].T.copy() # to be used for global form calculation\n",
    "df.fillna(0, inplace=True)\n",
    "dftime = df.iloc[:,2:].T.copy()"
   ]
  },
  {
   "cell_type": "markdown",
   "metadata": {},
   "source": [
    "### Preprocessing for Profit/Loss against time analysis"
   ]
  },
  {
   "cell_type": "code",
   "execution_count": 3,
   "metadata": {},
   "outputs": [],
   "source": [
    "crit_tables = 6 # plotly graph will only show player who have player at least this number of games\n",
    "dftime['Guests'] = dftime.T[dftime.T['TABLES'] < crit_tables].sum().to_frame() #sum all guest values for by date\n",
    "dftime = dftime.T[dftime.T['TABLES'] >= crit_tables].T\n",
    "#dftime = dftime[['Ashish','Sid','Chris','Panos','Kartik','Tanish','Guests']] #create the new table\n",
    "dftime.drop(index='TABLES' , inplace= True)\n",
    "dftime = dftime.rename_axis('Date').reset_index()\n",
    "\n",
    "# Initialize variables to keep track of cumulative sums for each column\n",
    "cumulative_sums = {col: 0 for col in dftime.columns[1:]}\n",
    "\n",
    "# Iterate through the columns and update values so that the datum of the nth row is the sum of all data up to and including row n \n",
    "for col in dftime.columns[1:]:\n",
    "    for index, row in dftime.iterrows():\n",
    "        cumulative_sums[col] += row[col]\n",
    "        dftime.at[index, col] = cumulative_sums[col]\n",
    "\n",
    "dftime['Date'] = dftime['Date'].dt.strftime('%d-%b') #change the date format\n",
    "\n",
    "def melt_data(dftime):\n",
    "    dftime_melt = dftime.melt(id_vars='Date', value_vars=list(dftime.columns[1:])).rename({'variable':'Player','value':'Net Profit/Loss'}, axis='columns') #melt the table and rename the new columns\n",
    "    dftime_melt['Net Profit/Loss'] = round(dftime_melt['Net Profit/Loss'],2) # round all values to 2 decimal points\n",
    "    return dftime_melt"
   ]
  },
  {
   "cell_type": "markdown",
   "metadata": {},
   "source": [
    "## Group Analysis"
   ]
  },
  {
   "cell_type": "markdown",
   "metadata": {},
   "source": [
    "### Session Results"
   ]
  },
  {
   "cell_type": "code",
   "execution_count": 4,
   "metadata": {},
   "outputs": [],
   "source": [
    "def make_table(row):\n",
    "    selected_data = dftime2.iloc[row+1:row + 2].dropna(axis=1).to_dict('records')\n",
    "    fig = dash_table.DataTable(\n",
    "        id='results-table',  # Specify the id for the DataTable\n",
    "        columns=[{'name': col, 'id': col} for col in dftime2.drop(index='TABLES').iloc[row:row + 1].dropna(axis=1).columns],\n",
    "        data=selected_data,\n",
    "        style_table={'fontSize': 22},  # Set the font size\n",
    "    )\n",
    "    return fig"
   ]
  },
  {
   "cell_type": "markdown",
   "metadata": {},
   "source": [
    "### Current Profit/Loss "
   ]
  },
  {
   "cell_type": "code",
   "execution_count": 5,
   "metadata": {},
   "outputs": [],
   "source": [
    "def Status_bar(player_list):\n",
    "    data = [round(value, 2) for value in dftime.loc[dftime.index[-1], player_list].tolist()] #get the current p/l from the last row of the dataframe\n",
    "    \n",
    "    # Create a DataFrame for the bar chart\n",
    "    df = pd.DataFrame({'Player': player_list, 'Net Profit/Loss': data})\n",
    "    \n",
    "    # Create the bar chart with Plotly Express\n",
    "    fig = px.bar(df, x='Net Profit/Loss', y='Player', text='Net Profit/Loss', orientation='h')\n",
    "    \n",
    "    # Add a title and axis labels\n",
    "    fig.update_layout(\n",
    "        title='Net Profit/Loss for Players',\n",
    "        xaxis_title='Net Profit/Loss',\n",
    "        yaxis_title='Player',\n",
    "        xaxis=dict(\n",
    "            tickformat=\"%b\",\n",
    "            showgrid=True,\n",
    "            tickfont = {'size':16},\n",
    "        ),\n",
    "        title_x=0.5,\n",
    "        title_font = {'size':20},\n",
    "        yaxis=dict(\n",
    "            tickfont = {'size':16},\n",
    "        )\n",
    "    )\n",
    "\n",
    "    # Show values next to bars\n",
    "    fig.update_traces(texttemplate='%{text:.2f}', textposition='outside')\n",
    "\n",
    "    return fig"
   ]
  },
  {
   "cell_type": "markdown",
   "metadata": {},
   "source": [
    "### Time Lapse Bar Plot"
   ]
  },
  {
   "cell_type": "markdown",
   "metadata": {},
   "source": [
    "We will use the `px.bar` method from Plotly Express to show the Net profit of all players over time."
   ]
  },
  {
   "cell_type": "code",
   "execution_count": 6,
   "metadata": {},
   "outputs": [],
   "source": [
    "def Time_Lapse(player_list):\n",
    "    dftime_melt = melt_data(dftime)\n",
    "    dftime_melt = dftime_melt[dftime_melt['Player'].isin(player_list)] #update the dataframe to include only the names selected\n",
    "    fig = px.bar(dftime_melt,  \n",
    "                x='Net Profit/Loss', y = \"Player\", animation_frame=\"Date\", range_x=(-200,200),hover_data=['Net Profit/Loss'],color='Net Profit/Loss', width=2000, height=800, range_color=(-500,200), orientation= 'h')\n",
    "    fig.update_layout(\n",
    "        title=\"Time Lapse of Profit/Loss of every player\",\n",
    "        xaxis_title=\"Date\",\n",
    "        yaxis_title=\"Net Profit/Loss\",\n",
    "        xaxis=dict(\n",
    "            tickformat=\"%b\",\n",
    "            showgrid=True,\n",
    "            tickfont = {'size':16},\n",
    "        ),\n",
    "        title_x=0.5,\n",
    "        title_font = {'size':20},\n",
    "        yaxis=dict(\n",
    "            tickfont = {'size':16},\n",
    "        )\n",
    "    )\n",
    "\n",
    "    fig.update_traces(textfont_size=12, textangle=0, textposition=\"outside\",overwrite=True, )  \n",
    "    fig.layout.updatemenus[0].buttons[0].args[1][\"frame\"][\"duration\"] = 600\n",
    "    return fig"
   ]
  },
  {
   "cell_type": "markdown",
   "metadata": {},
   "source": [
    "### Histogtam of performance"
   ]
  },
  {
   "cell_type": "markdown",
   "metadata": {},
   "source": [
    "Define the namelist of the players at interest"
   ]
  },
  {
   "cell_type": "code",
   "execution_count": 7,
   "metadata": {},
   "outputs": [],
   "source": [
    "namelist = dftime.columns[1:-1].to_list()"
   ]
  },
  {
   "cell_type": "markdown",
   "metadata": {},
   "source": [
    "## Player Analysis"
   ]
  },
  {
   "cell_type": "markdown",
   "metadata": {},
   "source": [
    "We will display the currect Net Profit and Profit per Game statistics in the same figure using Plotly's gauge chart. With this method we will also be able to show progression of these two values from a specified reference point. For this case, the reference point is the last game played."
   ]
  },
  {
   "cell_type": "code",
   "execution_count": 8,
   "metadata": {},
   "outputs": [],
   "source": [
    "def Current_profit_loss(person):\n",
    "    def get_ppg(person): # find the previous profit per game statistic\n",
    "        ppg = df.loc[person]['PPG']\n",
    "        games_played = df.loc[person]['TABLES']\n",
    "        last_p_l = df.loc[person][-1]\n",
    "        net = dftime.loc[dftime.index[-1], person]\n",
    "        (ppg_ref := ppg) if np.isnan(dftime2[person].tail(1).values) else (ppg_ref := (net - last_p_l) / (games_played - 1))\n",
    "        return round(ppg_ref, 2)\n",
    "        \n",
    "    # Create a subplot grid with 1 row and 2 columns\n",
    "    fig = make_subplots(rows=1, cols=2)\n",
    "\n",
    "    # Define data for the first gauge chart\n",
    "    trace1 = (go.Indicator(\n",
    "        mode = \"number+delta\",\n",
    "        value= int(dftime.loc[dftime.index[-1], person]), #Take the last value of the column\n",
    "        title={'text': \"Net Profit/Loss\"},\n",
    "        delta= {'reference': int(dftime.loc[dftime.index[-2], person]), 'increasing': {'color': \"RebeccaPurple\"}},\n",
    "        ))\n",
    "\n",
    "    # Define data for the second gauge chart\n",
    "    trace2 = (go.Indicator(\n",
    "        mode = \"number+delta\",\n",
    "        value= round(df.loc[person]['PPG'], 2), # ppg as defined by the first table\n",
    "        title={'text': \"Profit per Game\"},\n",
    "        delta= {'reference': get_ppg(person), 'increasing': {'color': \"RebeccaPurple\"}},\n",
    "        ))\n",
    "\n",
    "    fig.update_layout(paper_bgcolor = \"lavender\", font = {'color': \"darkblue\", 'family': \"Arial\"})\n",
    "\n",
    "    fig = make_subplots(\n",
    "        rows=1,\n",
    "        cols=2,\n",
    "        specs=[[{'type' : 'indicator'}, {'type' : 'indicator'}]],\n",
    "        )\n",
    "\n",
    "    fig.append_trace(trace1, row=1, col=1)\n",
    "    fig.append_trace(trace2, row=1, col=2)\n",
    "\n",
    "    return fig"
   ]
  },
  {
   "cell_type": "markdown",
   "metadata": {},
   "source": [
    "### Session Progress Plot\n",
    "\n",
    "For this section I originally had a regplot from seaborn. Unfortunatel though after multiple attempts, I couldn't convert the seaborn plot to a plotly graph which is compatible with dash. \n",
    "\n",
    "For that reason, I used the scikit-learn library to calculate the best fit curve on the data. I used a pipeline to experiment with the degree that appears to best fit the data. If more and better data were available, a better approach would be to itterate multiple degrees of polynomials and then use the AIC score (Akaike Information Criterion), which is a statistical measure used for model selection, to find select the best polynomial. The best polynomial would be the one with the lowest AIC score.\n",
    "\n",
    "The AIC is given by:  $\\displaystyle{AIC}= 2{k} - 2{ln}\\left( {L}\\right)$\n",
    "\n",
    "where $\\displaystyle{k}$ is the number of estimated parameters and $\\displaystyle{ln}\\left( {L}\\right)$ is the log of the likelyhood function."
   ]
  },
  {
   "cell_type": "code",
   "execution_count": 9,
   "metadata": {},
   "outputs": [],
   "source": [
    "def Progress_Session(person):\n",
    "    x_data = np.arange(1, len(dftime[person]) + 1)\n",
    "\n",
    "    fig = px.line() #initialise figure\n",
    "\n",
    "    #Add the actual data line\n",
    "    act_line = go.Scatter(x=x_data, y=dftime[person], mode='lines', name='Actual', line=dict(color='blue'))\n",
    "    fig.add_trace(act_line)\n",
    "\n",
    "    #make a pipeline that first transforms the data to match a polynomial of n degree and then fits them using linear regression\n",
    "    pipeline = Pipeline([\n",
    "        ('poly_features', PolynomialFeatures(degree=3)),\n",
    "        ('linear_regression', LinearRegression())])\n",
    "\n",
    "    pipeline.fit(np.array(x_data).reshape(-1, 1), dftime[person]) #fit the data\n",
    "    Y_pred = pipeline.predict(np.array(x_data).reshape(-1, 1)) #predict the values\n",
    "\n",
    "    #Add the predicted data line\n",
    "    trendline = go.Scatter(x=x_data, y=Y_pred, mode='lines', name='Trendline', line=dict(color='red'))\n",
    "    fig.add_trace(trendline)\n",
    "\n",
    "    fig.update_layout(\n",
    "        title='Session Progress',\n",
    "        xaxis_title='Session Number',\n",
    "        yaxis_title='Net Profit/Loss',\n",
    "        xaxis=dict(\n",
    "            tickformat=\"%b\",\n",
    "            showgrid=True,\n",
    "            tickfont = {'size':16},\n",
    "        ),\n",
    "        title_x=0.5,\n",
    "        title_font = {'size':20},\n",
    "        yaxis=dict(\n",
    "            tickfont = {'size':16},\n",
    "        )\n",
    "    )\n",
    "    return fig"
   ]
  },
  {
   "cell_type": "markdown",
   "metadata": {},
   "source": [
    "### Monthly Progress Plot"
   ]
  },
  {
   "cell_type": "code",
   "execution_count": 10,
   "metadata": {},
   "outputs": [],
   "source": [
    "def Progress_Monthly(person):\n",
    "    fig, ax = plt.subplots(figsize=(12, 5))\n",
    "    ax.plot(pd.to_datetime(dftime['Date'] + f\"-{2023}\", format='%d-%b-%Y'), dftime[person], label=person)\n",
    "    ax.set_ylabel('Net Profit/Loss')\n",
    "    ax.set_xlabel('Month (2023)')\n",
    "    ax.xaxis.set_major_formatter(plt.matplotlib.dates.DateFormatter(\"%b\"))\n",
    "    ax.legend()\n",
    "    ax.grid()\n",
    "    \n",
    "    # Convert Matplotlib figure to Plotly figure\n",
    "    x = pd.to_datetime(dftime['Date'] + f\"-{2023}\", format='%d-%b-%Y')\n",
    "    y = dftime[person]\n",
    "    fig = go.Figure(data=[go.Scatter(x=x, y=y)])\n",
    "\n",
    "    # Customize the layout, including the title\n",
    "    fig.update_layout(\n",
    "        title=' Monthly Progress',  # Set your desired title here\n",
    "        xaxis_title='Month (2023)',\n",
    "        yaxis_title='Net Profit/Loss',\n",
    "        xaxis=dict(\n",
    "            tickformat=\"%b\",\n",
    "            showgrid=True,\n",
    "            tickfont = {'size':16},\n",
    "        ),\n",
    "        title_x=0.5,\n",
    "        title_font = {'size':20},\n",
    "        yaxis=dict(\n",
    "            tickfont = {'size':16},\n",
    "        )\n",
    "    )\n",
    "\n",
    "    return fig"
   ]
  },
  {
   "cell_type": "markdown",
   "metadata": {},
   "source": [
    "### Personal and Global Form Preprocessing"
   ]
  },
  {
   "cell_type": "code",
   "execution_count": 11,
   "metadata": {},
   "outputs": [],
   "source": [
    "def Form_Preprocessing(person, dftime2, dftime3):\n",
    "    # Personal Form\n",
    "    dftime5 = dftime2[person].dropna()\n",
    "    dftime5.drop(index='TABLES' , inplace= True) \n",
    "    dftime5 = pd.Series([sum(dftime5[i:i+3]) for i in range(0, len(dftime5)-2, 1)]) # sum 3 in a row together\n",
    "    x = np.array(dftime5).reshape(-1,1) #reshape to fit transform\n",
    "    filtered_data = StandardScaler().fit_transform(x) #normalise first \n",
    "    filtered_data = MinMaxScaler().fit_transform(filtered_data)*10 #convert normalised data into min, max\n",
    "    filtered_data = [np.round(datum * 10) / 10 for datum in filtered_data]\n",
    "\n",
    "    # Global Form\n",
    "    # normalise the performance of all players in the playerlist based on the performance of these people:\n",
    "    dftime3 = dftime3[dftime3.columns[dftime3.columns.isin(['Ashish', 'Sid', 'Panos', 'Chris', 'Kartik', 'Tanish'])]] \n",
    "    if 'TABLES' in dftime3.index:  \n",
    "        dftime3.drop(index='TABLES' , inplace= True) #drop row with the number of tables\n",
    "    person_column = dftime3.pop(person)\n",
    "    dftime3[person] = person_column\n",
    "    global_list = []\n",
    "    for column in dftime3:\n",
    "        dftime4 = dftime3[column].dropna() #drop all NaN values\n",
    "        global_list.extend(pd.Series([sum(dftime4[i:i+3]) for i in range(0, len(dftime4)-2, 1)])) # sum 3 in a row together\n",
    "    filtered_data2 = StandardScaler().fit_transform(np.array(global_list).reshape(-1, 1)) #normalise first \n",
    "    filtered_data2 = MinMaxScaler().fit_transform(filtered_data2)*10 #convert normalised data into min, max\n",
    "    filtered_data2 = [np.round(datum * 10) / 10 for datum in filtered_data2]\n",
    "    \n",
    "    return filtered_data, filtered_data2\n",
    "# peronal form data, global form data"
   ]
  },
  {
   "cell_type": "markdown",
   "metadata": {},
   "source": [
    "### Personal and Global Form Gauge charts"
   ]
  },
  {
   "cell_type": "code",
   "execution_count": 12,
   "metadata": {},
   "outputs": [],
   "source": [
    "def Gauge_Charts(person):\n",
    "    filtered_data, filtered_data2 = Form_Preprocessing(person, dftime2, dftime3)\n",
    "    \n",
    "    # Create a subplot grid with 1 row and 2 columns\n",
    "    fig = make_subplots(rows=1, cols=2)\n",
    "\n",
    "    # Define data for the first gauge chart\n",
    "    trace1 = (go.Indicator(\n",
    "        mode = \"gauge+number+delta\",\n",
    "        value = float(filtered_data[-1]),\n",
    "        domain = {'x': [0, 1], 'y': [0, 1]},\n",
    "        title = {'text': \"{} Personal Form\".format(person), 'font': {'size': 20}},\n",
    "        delta = {'reference': int(filtered_data[-2]), 'increasing': {'color': \"RebeccaPurple\"}},\n",
    "        gauge = {\n",
    "            'axis': {'range': [None, 10], 'tickwidth': 1, 'tickcolor': \"darkblue\"},\n",
    "            'bar': {'color': \"darkblue\"},\n",
    "            'bgcolor': \"white\",\n",
    "            'borderwidth': 2,\n",
    "            'bordercolor': \"gray\",\n",
    "            'steps': [\n",
    "                {'range': [0, 5], 'color': 'red'},\n",
    "                {'range': [5, 10], 'color': 'cyan'}],\n",
    "            }))\n",
    "\n",
    "    # Define data for the second gauge chart\n",
    "    trace2 = (go.Indicator(\n",
    "        mode = \"gauge+number+delta\",\n",
    "        value = float(filtered_data2[-1]),\n",
    "        domain = {'x': [0, 1], 'y': [0, 1]},\n",
    "        title = {'text': \"{} Global Form\".format(person), 'font': {'size': 20}},\n",
    "        delta = {'reference': int(filtered_data2[-2]), 'increasing': {'color': \"RebeccaPurple\"}},\n",
    "        gauge = {\n",
    "            'axis': {'range': [None, 10], 'tickwidth': 1, 'tickcolor': \"darkblue\"},\n",
    "            'bar': {'color': \"darkblue\"},\n",
    "            'bgcolor': \"white\",\n",
    "            'borderwidth': 2,\n",
    "            'bordercolor': \"gray\",\n",
    "            'steps': [\n",
    "                {'range': [0, 5], 'color': 'red'},\n",
    "                {'range': [5, 10], 'color': 'cyan'}],\n",
    "            }))\n",
    "\n",
    "    fig.update_layout(\n",
    "        paper_bgcolor = \"lavender\",\n",
    "        font = {'color': \"darkblue\", 'family': \"Arial\"})\n",
    "    fig = make_subplots(\n",
    "        rows=1,\n",
    "        cols=2,\n",
    "        specs=[[{'type' : 'indicator'}, {'type' : 'indicator'}]],\n",
    "        )\n",
    "\n",
    "    fig.append_trace(trace1, row=1, col=1)\n",
    "    fig.append_trace(trace2, row=1, col=2)\n",
    "\n",
    "    return fig"
   ]
  },
  {
   "cell_type": "markdown",
   "metadata": {},
   "source": [
    "# Dash Board"
   ]
  },
  {
   "cell_type": "code",
   "execution_count": 13,
   "metadata": {},
   "outputs": [
    {
     "name": "stdout",
     "output_type": "stream",
     "text": [
      "Dash is running on http://127.0.0.1:8050/\n",
      "\n",
      " * Serving Flask app \"__main__\" (lazy loading)\n",
      " * Environment: production\n",
      "\u001b[31m   WARNING: This is a development server. Do not use it in a production deployment.\u001b[0m\n",
      "\u001b[2m   Use a production WSGI server instead.\u001b[0m\n",
      " * Debug mode: off\n"
     ]
    },
    {
     "name": "stderr",
     "output_type": "stream",
     "text": [
      " * Running on http://127.0.0.1:8050/ (Press CTRL+C to quit)\n"
     ]
    },
    {
     "name": "stderr",
     "output_type": "stream",
     "text": [
      "127.0.0.1 - - [15/Nov/2023 23:32:41] \"GET / HTTP/1.1\" 200 -\n",
      "127.0.0.1 - - [15/Nov/2023 23:32:42] \"GET /_dash-layout HTTP/1.1\" 200 -\n",
      "127.0.0.1 - - [15/Nov/2023 23:32:42] \"GET /_dash-dependencies HTTP/1.1\" 200 -\n",
      "127.0.0.1 - - [15/Nov/2023 23:32:42] \"POST /_dash-update-component HTTP/1.1\" 200 -\n",
      "127.0.0.1 - - [15/Nov/2023 23:32:42] \"GET /_dash-component-suites/dash/dcc/async-dropdown.js HTTP/1.1\" 200 -\n",
      "127.0.0.1 - - [15/Nov/2023 23:32:42] \"POST /_dash-update-component HTTP/1.1\" 200 -\n",
      "127.0.0.1 - - [15/Nov/2023 23:32:44] \"POST /_dash-update-component HTTP/1.1\" 200 -\n",
      "127.0.0.1 - - [15/Nov/2023 23:32:44] \"POST /_dash-update-component HTTP/1.1\" 200 -\n",
      "C:\\Users\\PanSt\\AppData\\Local\\Temp\\ipykernel_19564\\2504395481.py:15: SettingWithCopyWarning:\n",
      "\n",
      "\n",
      "A value is trying to be set on a copy of a slice from a DataFrame\n",
      "\n",
      "See the caveats in the documentation: https://pandas.pydata.org/pandas-docs/stable/user_guide/indexing.html#returning-a-view-versus-a-copy\n",
      "\n",
      "C:\\Users\\PanSt\\AppData\\Local\\Temp\\ipykernel_19564\\2504395481.py:17: SettingWithCopyWarning:\n",
      "\n",
      "\n",
      "A value is trying to be set on a copy of a slice from a DataFrame.\n",
      "Try using .loc[row_indexer,col_indexer] = value instead\n",
      "\n",
      "See the caveats in the documentation: https://pandas.pydata.org/pandas-docs/stable/user_guide/indexing.html#returning-a-view-versus-a-copy\n",
      "\n",
      "127.0.0.1 - - [15/Nov/2023 23:32:44] \"POST /_dash-update-component HTTP/1.1\" 200 -\n",
      "127.0.0.1 - - [15/Nov/2023 23:32:44] \"GET /_dash-component-suites/dash/dcc/async-graph.js HTTP/1.1\" 200 -\n",
      "127.0.0.1 - - [15/Nov/2023 23:32:44] \"GET /_dash-component-suites/dash/dcc/async-plotlyjs.js HTTP/1.1\" 200 -\n",
      "127.0.0.1 - - [15/Nov/2023 23:32:44] \"POST /_dash-update-component HTTP/1.1\" 200 -\n",
      "127.0.0.1 - - [15/Nov/2023 23:32:44] \"POST /_dash-update-component HTTP/1.1\" 200 -\n",
      "127.0.0.1 - - [15/Nov/2023 23:32:45] \"POST /_dash-update-component HTTP/1.1\" 200 -\n",
      "127.0.0.1 - - [15/Nov/2023 23:32:45] \"POST /_dash-update-component HTTP/1.1\" 200 -\n",
      "127.0.0.1 - - [15/Nov/2023 23:32:45] \"POST /_dash-update-component HTTP/1.1\" 200 -\n",
      "127.0.0.1 - - [15/Nov/2023 23:32:45] \"GET /_dash-component-suites/dash/dash_table/async-highlight.js HTTP/1.1\" 200 -\n",
      "127.0.0.1 - - [15/Nov/2023 23:32:45] \"GET /_dash-component-suites/dash/dash_table/async-table.js HTTP/1.1\" 200 -\n",
      "127.0.0.1 - - [15/Nov/2023 23:32:46] \"POST /_dash-update-component HTTP/1.1\" 200 -\n",
      "127.0.0.1 - - [15/Nov/2023 23:32:46] \"POST /_dash-update-component HTTP/1.1\" 200 -\n",
      "127.0.0.1 - - [15/Nov/2023 23:32:46] \"POST /_dash-update-component HTTP/1.1\" 200 -\n",
      "C:\\Users\\PanSt\\AppData\\Local\\Temp\\ipykernel_19564\\2504395481.py:15: SettingWithCopyWarning:\n",
      "\n",
      "\n",
      "A value is trying to be set on a copy of a slice from a DataFrame\n",
      "\n",
      "See the caveats in the documentation: https://pandas.pydata.org/pandas-docs/stable/user_guide/indexing.html#returning-a-view-versus-a-copy\n",
      "\n",
      "C:\\Users\\PanSt\\AppData\\Local\\Temp\\ipykernel_19564\\2504395481.py:17: SettingWithCopyWarning:\n",
      "\n",
      "\n",
      "A value is trying to be set on a copy of a slice from a DataFrame.\n",
      "Try using .loc[row_indexer,col_indexer] = value instead\n",
      "\n",
      "See the caveats in the documentation: https://pandas.pydata.org/pandas-docs/stable/user_guide/indexing.html#returning-a-view-versus-a-copy\n",
      "\n",
      "127.0.0.1 - - [15/Nov/2023 23:32:46] \"POST /_dash-update-component HTTP/1.1\" 200 -\n",
      "127.0.0.1 - - [15/Nov/2023 23:32:46] \"POST /_dash-update-component HTTP/1.1\" 200 -\n",
      "127.0.0.1 - - [15/Nov/2023 23:32:47] \"POST /_dash-update-component HTTP/1.1\" 200 -\n",
      "127.0.0.1 - - [15/Nov/2023 23:32:47] \"POST /_dash-update-component HTTP/1.1\" 200 -\n",
      "127.0.0.1 - - [15/Nov/2023 23:32:47] \"POST /_dash-update-component HTTP/1.1\" 200 -\n"
     ]
    },
    {
     "ename": "",
     "evalue": "",
     "output_type": "error",
     "traceback": [
      "\u001b[1;31mThe Kernel crashed while executing code in the the current cell or a previous cell. Please review the code in the cell(s) to identify a possible cause of the failure. Click <a href='https://aka.ms/vscodeJupyterKernelCrash'>here</a> for more info. View Jupyter <a href='command:jupyter.viewOutput'>log</a> for further details."
     ]
    }
   ],
   "source": [
    "app = dash.Dash(__name__)\n",
    "app.config.suppress_callback_exceptions = True\n",
    "\n",
    "# Define the layout of the dashboard\n",
    "app.layout = html.Div([\n",
    "    dcc.Tabs(id=\"tabs\", value='personal', children=[\n",
    "        dcc.Tab(label='Personal Data', value='personal'),\n",
    "        dcc.Tab(label='Table Data', value='global'),\n",
    "    ]),\n",
    "    html.Div(id='page-content'),\n",
    "])\n",
    "\n",
    "# Callback to switch between subpages\n",
    "@app.callback(Output('page-content', 'children'), Input('tabs', 'value'))\n",
    "def render_content(tab):\n",
    "    if tab == 'personal': #break into tabs\n",
    "        return html.Div([\n",
    "            dcc.Dropdown( #make a dropdown section for the person at interrest\n",
    "                id='Player',\n",
    "                options=[{'label': person, 'value': person} for person in namelist],\n",
    "                value=namelist[1]  # Set the default value\n",
    "               ),\n",
    "            html.Div(id='current-profit'),\n",
    "            html.Div(id='session-progress'),       \n",
    "            html.Div(id='monthly-progress'), # Container for the monthly personal data\n",
    "            html.Div(id='gauge-chart'), # Container for the gauge charts\n",
    "        ])\n",
    "    elif tab == 'global':\n",
    "        return html.Div([\n",
    "            dcc.Dropdown(\n",
    "                id='row-dropdown',\n",
    "                options=[{'label': '{1} - Session {0}'.format(i+1, dftime2.index[1+i].strftime('%d-%b')), 'value': i} for i in range(dftime2.shape[0]-1)],\n",
    "                value= dftime2.shape[0]-2,  # Default to the last game\n",
    "                style={'width': '50%'}\n",
    "            ),\n",
    "            html.Div(id='results-table-container', style={'margin-bottom': '50px'}),  # Change id to 'results-table-container'\n",
    "            dcc.Checklist(\n",
    "                id='Name-Checklist',\n",
    "                options=[{'label': person, 'value': person} for person in namelist],\n",
    "                value=namelist[:5], # select the first 5 people from the namelist\n",
    "                labelStyle={'font-size': '24px',},  # Increase font size and center labels\n",
    "                inline=True,\n",
    "            ),\n",
    "            html.Div(id='bar-plot'),\n",
    "            html.Div(id='time-lapse'),\n",
    "        ])\n",
    "    \n",
    "# Callback to update the current profit/loss value\n",
    "@app.callback(Output('current-profit', 'children'), Input('Player', 'value'))\n",
    "def update_current_profit_loss_value(selected_person):\n",
    "    fig = Current_profit_loss(selected_person)\n",
    "    return dcc.Graph(figure=fig)\n",
    "\n",
    "# Callback to update the progress per session chart based on the selected person    \n",
    "@app.callback(Output('session-progress', 'children'), Input('Player', 'value'))\n",
    "def update_progress_session_chart(selected_person):\n",
    "    fig = Progress_Session(selected_person)\n",
    "    return dcc.Graph(figure=fig)\n",
    "\n",
    "# Callback to update the monthly progress chart based on the selected person    \n",
    "@app.callback(Output('monthly-progress', 'children'), Input('Player', 'value'))\n",
    "def update_progress_montly_chart(selected_person):\n",
    "    fig = Progress_Monthly(selected_person)\n",
    "    return dcc.Graph(figure=fig)\n",
    "\n",
    "# Callback to update the gauge charts based on the selected person  \n",
    "@app.callback(Output('gauge-chart', 'children'), Input('Player', 'value'))\n",
    "def update_gauge_charts(selected_person):\n",
    "    fig = Gauge_Charts(selected_person)\n",
    "    return dcc.Graph(figure=fig)\n",
    "\n",
    "# Callback to update the table based on the selected row\n",
    "@app.callback(Output('results-table-container', 'children'), Input('row-dropdown', 'value'))\n",
    "def update_table(selected_row):\n",
    "    fig = make_table(selected_row)\n",
    "    return fig\n",
    "\n",
    "# Callback to update the current progress bar chart based on the selected people (from the checklist)\n",
    "@app.callback(Output('bar-plot', 'children'), Input('Name-Checklist', 'value'))\n",
    "def update_graph(selected_people):\n",
    "    fig = Status_bar(selected_people)\n",
    "    return dcc.Graph(figure=fig)\n",
    "\n",
    "# Callback to update the current time lapse bar chart based on the selected people (from the checklist)\n",
    "@app.callback(Output('time-lapse', 'children'), Input('Name-Checklist', 'value'))\n",
    "def update_graph(selected_people):\n",
    "    fig = Time_Lapse(selected_people)\n",
    "    return dcc.Graph(figure=fig)\n",
    "\n",
    "if __name__ == '__main__':\n",
    "    app.run_server(port=8050, threaded=False)"
   ]
  }
 ],
 "metadata": {
  "kernelspec": {
   "display_name": "Python 3",
   "language": "python",
   "name": "python3"
  },
  "language_info": {
   "codemirror_mode": {
    "name": "ipython",
    "version": 3
   },
   "file_extension": ".py",
   "mimetype": "text/x-python",
   "name": "python",
   "nbconvert_exporter": "python",
   "pygments_lexer": "ipython3",
   "version": "3.9.13"
  }
 },
 "nbformat": 4,
 "nbformat_minor": 2
}
